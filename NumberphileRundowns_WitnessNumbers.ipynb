{
  "nbformat": 4,
  "nbformat_minor": 0,
  "metadata": {
    "colab": {
      "name": "NumberphileRundowns-WitnessNumbers.ipynb",
      "provenance": [],
      "authorship_tag": "ABX9TyNhYqdt2oPH+njdbaConCq6",
      "include_colab_link": true
    },
    "kernelspec": {
      "name": "python3",
      "display_name": "Python 3"
    },
    "language_info": {
      "name": "python"
    }
  },
  "cells": [
    {
      "cell_type": "markdown",
      "metadata": {
        "id": "view-in-github",
        "colab_type": "text"
      },
      "source": [
        "<a href=\"https://colab.research.google.com/github/GregSym/Numberphile_Follow_Alongs/blob/spoon/NumberphileRundowns_WitnessNumbers.ipynb\" target=\"_parent\"><img src=\"https://colab.research.google.com/assets/colab-badge.svg\" alt=\"Open In Colab\"/></a>"
      ]
    },
    {
      "cell_type": "markdown",
      "metadata": {
        "id": "DIpqC1C3EV87"
      },
      "source": [
        "<h1>Numberphile Follow-Along Maths</h1>\n",
        "\n",
        "Here follow some selected numberphile math reviews"
      ]
    },
    {
      "cell_type": "markdown",
      "metadata": {
        "id": "aWKXikd4Enqa"
      },
      "source": [
        "# Witness Numbers (and the truthful 1,662,803) - Numberphile\n",
        "## Nov 28, 2021\n",
        "\n",
        "https://www.youtube.com/watch?v=_MscGSN5J6o"
      ]
    },
    {
      "cell_type": "markdown",
      "metadata": {
        "id": "aA5Efbsd4IAr"
      },
      "source": [
        "<h3>here's a pythonic breakdown of the intro to the video:</h3>\n",
        "\n",
        "(Matt Parker does sort of gloss over the recursive algorithm he's using, but it's easier in real maths than in a program so we'll forgive him that)"
      ]
    },
    {
      "cell_type": "code",
      "metadata": {
        "colab": {
          "base_uri": "https://localhost:8080/"
        },
        "id": "m5tyByv2EVEQ",
        "outputId": "1806caf8-ab5c-41c2-a82b-185f6ecf1254"
      },
      "source": [
        "from __future__ import annotations  # alt for typing import, allows 3.9^ typing\n",
        "\n",
        "n: int = 747  # number to test\n",
        "a: int = 23  # witness number\n",
        "\n",
        "# test rules\n",
        "assert n > 2 and n%2 == 1  # odd n greater than 2\n",
        "\n",
        "def recursive_coeffecient_calculation(n_minus_1: int, m: int=1) -> tuple[int, int]:\n",
        "  \"\"\" Recursively determine the coefficient d in the equation: n = 2**m * d + 1 \"\"\"\n",
        "  d_float: float = n_minus_1 / 2  # note: python will treat this as a float, typing aside\n",
        "  assert d_float.is_integer()  # ensure int and then convert\n",
        "  d: int = int(d_float)\n",
        "  if d%2 == 0:\n",
        "    m += 1\n",
        "    d, m = recursive_coeffecient_calculation(n_minus_1=d, m=m)\n",
        "  return d, m\n",
        "  \n",
        "\n",
        "\n",
        "d, m = recursive_coeffecient_calculation(n_minus_1=n - 1)\n",
        "\n",
        "rearrangement = (2 ** m) * d + 1\n",
        "rearrangement"
      ],
      "execution_count": 54,
      "outputs": [
        {
          "output_type": "execute_result",
          "data": {
            "text/plain": [
              "747"
            ]
          },
          "metadata": {},
          "execution_count": 54
        }
      ]
    },
    {
      "cell_type": "markdown",
      "metadata": {
        "id": "PVFgIuyj4vyU"
      },
      "source": [
        "The next step is the test a^d == 1 mod n"
      ]
    },
    {
      "cell_type": "code",
      "metadata": {
        "colab": {
          "base_uri": "https://localhost:8080/"
        },
        "id": "a5BZ9YLC1V_J",
        "outputId": "46ad2fd4-3030-49ad-f5f0-5dba2dd36b39"
      },
      "source": [
        "(a**d)%n  # plugging large floats into d here will overflow, hence the conversion above\n"
      ],
      "execution_count": 55,
      "outputs": [
        {
          "output_type": "execute_result",
          "data": {
            "text/plain": [
              "131"
            ]
          },
          "metadata": {},
          "execution_count": 55
        }
      ]
    },
    {
      "cell_type": "markdown",
      "metadata": {
        "id": "_MRqUotd82Ck"
      },
      "source": [
        "With the final Witness Test looking like this:"
      ]
    },
    {
      "cell_type": "code",
      "metadata": {
        "colab": {
          "base_uri": "https://localhost:8080/"
        },
        "id": "jY7XmOe55B-R",
        "outputId": "a7c1b893-a197-47a9-fef5-afa30d26eed4"
      },
      "source": [
        "if (a**d)%n == 1 or (a**d)%n == -1 or (a**d)%n == n - 1:  # I don't think mod ever returns -1 in python, this is just included as an explainer for the third clause\n",
        "  print(True)\n",
        "else:\n",
        "  print(False)"
      ],
      "execution_count": 56,
      "outputs": [
        {
          "output_type": "stream",
          "name": "stdout",
          "text": [
            "False\n"
          ]
        }
      ]
    },
    {
      "cell_type": "markdown",
      "metadata": {
        "id": "QtA5M5J09RdK"
      },
      "source": [
        "Note: a false is 100% reliable, a True is not (True here meaning n is prime)\n",
        "\n",
        "Per Matt Parker: \"They're called strong liars\""
      ]
    },
    {
      "cell_type": "markdown",
      "metadata": {
        "id": "EEDdnA9Q93B5"
      },
      "source": [
        "### Naive Implementation\n",
        "\n",
        "They then demonstrate a liar (10) in action on n of 91 - so I'm going to write out a naive implementation of a witness test function without multiple witnesses\n",
        "\n",
        "probably worth including the algorithm as implemented on Wikipedia here, because\n",
        "they don't go into super deep detail on how higher values of m are handled in the numberphile video: https://en.wikipedia.org/wiki/Miller%E2%80%93Rabin_primality_test\n",
        "```\n",
        "Input #1: n > 3, an odd integer to be tested for primality\n",
        "Input #2: k, the number of rounds of testing to perform\n",
        "Output: “composite” if n is found to be composite, “probably prime” otherwise\n",
        "\n",
        "write n as 2^r·d + 1 with d odd (by factoring out powers of 2 from n − 1)\n",
        "WitnessLoop: repeat k times:\n",
        "    pick a random integer a in the range [2, n − 2]\n",
        "    x ← a^d mod n\n",
        "    if x = 1 or x = n − 1 then\n",
        "        continue WitnessLoop\n",
        "    repeat r − 1 times:\n",
        "        x ← x^2 mod n\n",
        "        if x = n − 1 then\n",
        "            continue WitnessLoop\n",
        "    return “composite”\n",
        "return “probably prime”\n",
        "```\n",
        "note: I the loop is doing the thing where it checks every number for n - 2 and returning a probabilistic primeness, the below function is concerned only with the inside of the WitnessLoop, but it references it in the continue statements, so I'm including the whole thing here, for full context."
      ]
    },
    {
      "cell_type": "code",
      "metadata": {
        "id": "abiSn4L49J-W"
      },
      "source": [
        "def naive_witness_test(n: int, a: int, verbose: bool = False) -> bool:\n",
        "  \"\"\" A naive implementation of a witness test that simply uses one witness \n",
        "    - returns True if prime, false if not\n",
        "    - remember, they're 'strong liars', so only False is certain\n",
        "  \"\"\"\n",
        "  # check rules\n",
        "  assert n > 2 and n%2 == 1  # odd n greater than 2\n",
        "  d, m = recursive_coeffecient_calculation(n_minus_1=n - 1)\n",
        "  if verbose:\n",
        "    print(d, m)\n",
        "\n",
        "  # check accuracy of rearrangement\n",
        "  # this sort of thing would go in a test file if packaged\n",
        "  assert n == (2 ** m) * d + 1, f\"fails fundamental equality, {n} != {(2 ** m) * d + 1}, m: {m}, d: {d}, witness or a: {a}\"  \n",
        "  assert a <= n - 2, f\"failed check: {a} <= {n}-2 - witness number, a, must be less than the number under inspection, n\"\n",
        "  ask_witness = (a**d)%n\n",
        "  if verbose:\n",
        "    print(f\"starting witness check: {ask_witness}\")\n",
        "  \n",
        "  # basic case\n",
        "  if ask_witness == 1 or ask_witness == n - 1:\n",
        "      return True\n",
        "  \n",
        "  # higher exponent case (denoted as r for 1 < r < m)\n",
        "  ask_witness_generator = ((a**((2**new_exponent)*d))%n for new_exponent in range(1, m))  # generate other witnesses for larger m\n",
        "  for ask_witness in ask_witness_generator:\n",
        "    if verbose:\n",
        "      print(ask_witness)\n",
        "    if ask_witness == n - 1:\n",
        "      return True\n",
        "  \n",
        "  return False"
      ],
      "execution_count": 57,
      "outputs": []
    },
    {
      "cell_type": "code",
      "metadata": {
        "colab": {
          "base_uri": "https://localhost:8080/"
        },
        "id": "gjJCs2pH_ixf",
        "outputId": "625e83a2-9219-4aba-cf61-7e55a9f7bd52"
      },
      "source": [
        "print(naive_witness_test(n=747, a=23))\n",
        "print(naive_witness_test(n=5, a=3))\n",
        "print(naive_witness_test(n=7, a=3))\n",
        "print(naive_witness_test(n=13, a=3))\n",
        "print(naive_witness_test(n=17, a=3))\n",
        "print(naive_witness_test(n=1729, a=3))  # expect false\n",
        "naive_witness_test(n=91, a=10)"
      ],
      "execution_count": 58,
      "outputs": [
        {
          "output_type": "stream",
          "name": "stdout",
          "text": [
            "False\n",
            "True\n",
            "True\n",
            "True\n",
            "True\n",
            "False\n"
          ]
        },
        {
          "output_type": "execute_result",
          "data": {
            "text/plain": [
              "True"
            ]
          },
          "metadata": {},
          "execution_count": 58
        }
      ]
    },
    {
      "cell_type": "code",
      "metadata": {
        "colab": {
          "base_uri": "https://localhost:8080/"
        },
        "id": "1DXysEThhWxb",
        "outputId": "6e3ff5e2-3494-49e6-8eef-8207545cfffe"
      },
      "source": [
        "3**((2**3)*1)%17"
      ],
      "execution_count": 59,
      "outputs": [
        {
          "output_type": "execute_result",
          "data": {
            "text/plain": [
              "16"
            ]
          },
          "metadata": {},
          "execution_count": 59
        }
      ]
    },
    {
      "cell_type": "markdown",
      "metadata": {
        "id": "FOHraovZBYI6"
      },
      "source": [
        "### Star Witnesses / Miller Rabin Test\n",
        "\n",
        "You can use reliable star witnesses to implement a prime checker that works for \n",
        "certain values of n"
      ]
    },
    {
      "cell_type": "code",
      "metadata": {
        "id": "by3cFeHh_pb0"
      },
      "source": [
        "from typing_extensions import Protocol  # < 3.8 Protocol lives in a different package \n",
        "\n",
        "class StarWitnessesInterface(Protocol):\n",
        "  \"\"\" An interface for interacting with defined \n",
        "      test cases for the Miller Rabin Test \n",
        "  \"\"\"\n",
        "  @property\n",
        "  def star_witnesses(self) -> tuple[int, ...]:...\n",
        "  @property\n",
        "  def upper_bound(self) -> int:...\n",
        "\n",
        "smallest_possible = (2, 3)  # works for: 1_373_653\n",
        "three_numbers = (2, 3, 5)  # works for 25_326_001\n",
        "bigger_list_of_two = (31, 73)  # 9_080_191\n",
        "squad_of_four = (2, 13, 23, 1_662_803)  # 1_122_004_669_633\n",
        "friendly_five = (2, 3, 5, 7, 11)  # 2_152_302_898_747 ...oh, look, Matt's bow\n",
        "twelve_angry_men = (2, 3, 5, 7, 11, 13, 17, 19, 23, 29, 31, 37)  # 10^23\n",
        "# 318_665_857_834_031_151_167_461  --might not go in a regular int by my reckoning"
      ],
      "execution_count": 60,
      "outputs": []
    },
    {
      "cell_type": "markdown",
      "metadata": {
        "id": "ASoGgZgZJSir"
      },
      "source": [
        "Because I want the star witness numbers to be defined in a constant datastructure and not subject to variable parameters, I've made an interface above and will now define constant classes for each of the above cases"
      ]
    },
    {
      "cell_type": "code",
      "metadata": {
        "id": "GH1t2CSqJygk"
      },
      "source": [
        "class SmallestPossible:\n",
        "  @property\n",
        "  def star_witnesses(self) -> tuple[int, ...]:\n",
        "    return (2, 3)\n",
        "  @property\n",
        "  def upper_bound(self) -> int:\n",
        "    return 1_373_653\n",
        "\n",
        "class ThreeWitnesses:\n",
        "  @property\n",
        "  def star_witnesses(self) -> tuple[int, ...]:\n",
        "    return (2, 3, 5)\n",
        "  @property\n",
        "  def upper_bound(self) -> int:\n",
        "    return 25_326_001\n",
        "\n",
        "class BiggerListOfTwo:\n",
        "  @property\n",
        "  def star_witnesses(self) -> tuple[int, ...]:\n",
        "    return bigger_list_of_two\n",
        "  @property\n",
        "  def upper_bound(self) -> int:\n",
        "    return 9_080_191\n",
        "\n",
        "class SquadOfFour:\n",
        "  @property\n",
        "  def star_witnesses(self) -> tuple[int, ...]:\n",
        "    return squad_of_four\n",
        "  @property\n",
        "  def upper_bound(self) -> int:\n",
        "    return 1_122_004_669_633\n",
        "  \n",
        "class FriendlyFive:\n",
        "  @property\n",
        "  def star_witnesses(self) -> tuple[int, ...]:\n",
        "    return friendly_five\n",
        "  @property\n",
        "  def upper_bound(self) -> int:\n",
        "    return 2_152_302_898_747\n",
        "\n",
        "class TwelveAngryMen:\n",
        "  @property\n",
        "  def star_witnesses(self) -> tuple[int, ...]:\n",
        "    return twelve_angry_men\n",
        "  @property\n",
        "  def upper_bound(self) -> int:\n",
        "    return 318_665_857_834_031_151_167_461"
      ],
      "execution_count": 61,
      "outputs": []
    },
    {
      "cell_type": "markdown",
      "metadata": {
        "id": "5PzEjKcYPAW5"
      },
      "source": [
        "Well, that was probably too much code for the problem at hand, wasn't it? Anyway, from now on, I use them as below and hopefully it's worth it (spoilers: nah)"
      ]
    },
    {
      "cell_type": "code",
      "metadata": {
        "colab": {
          "base_uri": "https://localhost:8080/"
        },
        "id": "dRuImfU_JSH8",
        "outputId": "4b274103-9e9f-470b-9fc1-ee17e6fd4a46"
      },
      "source": [
        "list_of_witness_parameters: list[StarWitnessesInterface] = [\n",
        "                                                            SmallestPossible(),\n",
        "                                                            BiggerListOfTwo(),\n",
        "                                                            ThreeWitnesses(),\n",
        "                                                            SquadOfFour(),\n",
        "                                                            FriendlyFive(),\n",
        "                                                            TwelveAngryMen()\n",
        "]\n",
        "\n",
        "[witness_group.upper_bound for witness_group in list_of_witness_parameters]"
      ],
      "execution_count": 62,
      "outputs": [
        {
          "output_type": "execute_result",
          "data": {
            "text/plain": [
              "[1373653,\n",
              " 9080191,\n",
              " 25326001,\n",
              " 1122004669633,\n",
              " 2152302898747,\n",
              " 318665857834031151167461]"
            ]
          },
          "metadata": {},
          "execution_count": 62
        }
      ]
    },
    {
      "cell_type": "markdown",
      "metadata": {
        "id": "K4aSagn0Z9VE"
      },
      "source": [
        "### We're going to need a working prime generator to run tests against quickly\n",
        "\n",
        "now, I could do that myself. But what I'm actually going to do is use stack overflow: https://stackoverflow.com/questions/567222/simple-prime-number-generator-in-python (the code segment contains its own references that I'm leaving in)"
      ]
    },
    {
      "cell_type": "code",
      "metadata": {
        "colab": {
          "base_uri": "https://localhost:8080/"
        },
        "id": "6HT8_on0aFf6",
        "outputId": "29a6b41b-71c9-47d6-bfab-3ca86ba6e80c"
      },
      "source": [
        "# Sieve of Eratosthenes\n",
        "# Code by David Eppstein, UC Irvine, 28 Feb 2002\n",
        "# http://code.activestate.com/recipes/117119/\n",
        "\n",
        "def gen_primes():\n",
        "    \"\"\" Generate an infinite sequence of prime numbers.\n",
        "    \"\"\"\n",
        "    # Maps composites to primes witnessing their compositeness.\n",
        "    # This is memory efficient, as the sieve is not \"run forward\"\n",
        "    # indefinitely, but only as long as required by the current\n",
        "    # number being tested.\n",
        "    #\n",
        "    D = {}\n",
        "    \n",
        "    # The running integer that's checked for primeness\n",
        "    q = 2\n",
        "    \n",
        "    while True:\n",
        "        if q not in D:\n",
        "            # q is a new prime.\n",
        "            # Yield it and mark its first multiple that isn't\n",
        "            # already marked in previous iterations\n",
        "            # \n",
        "            yield q\n",
        "            D[q * q] = [q]\n",
        "        else:\n",
        "            # q is composite. D[q] is the list of primes that\n",
        "            # divide it. Since we've reached q, we no longer\n",
        "            # need it in the map, but we'll mark the next \n",
        "            # multiples of its witnesses to prepare for larger\n",
        "            # numbers\n",
        "            # \n",
        "            for p in D[q]:\n",
        "                D.setdefault(p + q, []).append(p)\n",
        "            del D[q]\n",
        "        \n",
        "        q += 1\n",
        "\n",
        "primes = gen_primes()\n",
        "[next(primes) for _ in range(10)]"
      ],
      "execution_count": 63,
      "outputs": [
        {
          "output_type": "execute_result",
          "data": {
            "text/plain": [
              "[2, 3, 5, 7, 11, 13, 17, 19, 23, 29]"
            ]
          },
          "metadata": {},
          "execution_count": 63
        }
      ]
    },
    {
      "cell_type": "markdown",
      "metadata": {
        "id": "UvmLHWQra4uv"
      },
      "source": [
        "Define prime detection test"
      ]
    },
    {
      "cell_type": "code",
      "metadata": {
        "id": "0HnLcS3Ua7ob"
      },
      "source": [
        "odd_generator = lambda lower_bound, upper_bound: (x for x in range(lower_bound, upper_bound) if x % 2)  # we're gonna want an odd num generator for testing\n",
        "\n",
        "class _PrimeDetectorInterface(Protocol):\n",
        "  def prime_determination(self, \n",
        "                          n: int, \n",
        "                          witness_group: StarWitnessesInterface = SmallestPossible()\n",
        "                          ) -> bool:... \n",
        "\n",
        "def test_prime_detection(prime_checker: _PrimeDetectorInterface, test_start: int = 4, test_range: int = 100, verbose: bool = False):\n",
        "  primes_gen = gen_primes()\n",
        "  primes = [next(primes_gen) for _ in range(test_range)]\n",
        "  if verbose:\n",
        "    print(primes)\n",
        "    [print(odd_num, prime_checker.prime_determination(n=odd_num)) for odd_num in odd_generator(test_start, test_range)]\n",
        "  number_result_zipped = ((odd_num, prime_checker.prime_determination(n=odd_num)) for odd_num in odd_generator(test_start, test_range))\n",
        "  for number, result in number_result_zipped:\n",
        "    if result:\n",
        "      assert number in primes, f\"A number, {number}, was declared prime that cannot be found in test primes\"\n",
        "    elif not result:\n",
        "      assert number not in primes, f\"A number, {number},  was declared composite that can be found in test primes\"\n",
        "\n",
        "def test_individual_prime_detection(prime_checker: _PrimeDetectorInterface, n: int):\n",
        "  \"\"\" lighter weight, individual prime test \"\"\"\n",
        "  from sympy import isprime\n",
        "  print(f\"sympy solution: {isprime(n)}, submitted prime checker's solution: {prime_checker.prime_determination(n)}\")\n",
        "  assert isprime(n) == prime_checker.prime_determination(n), \"failed to match sympy implementation's prime check\"\n",
        "\n"
      ],
      "execution_count": 64,
      "outputs": []
    },
    {
      "cell_type": "code",
      "metadata": {
        "id": "VrS3s9BmPUPj"
      },
      "source": [
        "class PrimeDetector:\n",
        "  witness_groups: list[StarWitnessesInterface] = list_of_witness_parameters  # let's just borrow that from above\n",
        "\n",
        "  miller_rabin_rule: Callable[...] = lambda self, n: n > 2 and n%2 == 1\n",
        "\n",
        "  def witness_group_factory(self, n: int) -> StarWitnessesInterface:\n",
        "    \"\"\" factory for returning appropriate witness groups \"\"\"\n",
        "    for witness_group in self.witness_groups:\n",
        "      if n < witness_group.upper_bound:\n",
        "        return witness_group  \n",
        "\n",
        "  def prime_determination(self, \n",
        "                          n: int, \n",
        "                          witness_group: StarWitnessesInterface = SmallestPossible()\n",
        "                          ) -> bool:\n",
        "    assert self.miller_rabin_rule(n), f\"number must be greater than 2 and odd - number found {n}\"\n",
        "    \n",
        "    if n >= witness_group.upper_bound: # assign an appropriate, larger witness group if necessary\n",
        "      witness_group = self.witness_group_factory(n=n)\n",
        "    \n",
        "    # print([naive_witness_test(n=n, a=witness_number) for witness_number in witness_group.star_witnesses])\n",
        "    return all([naive_witness_test(n=n, a=witness_number) for witness_number in witness_group.star_witnesses])\n",
        "\n",
        "test_prime_detection(prime_checker=PrimeDetector(), test_range=10_000)"
      ],
      "execution_count": 65,
      "outputs": []
    },
    {
      "cell_type": "code",
      "metadata": {
        "id": "eUvjPw5Kbne2"
      },
      "source": [
        "from sympy import isprime\n",
        "\n",
        "class PrimeDetectorSympy:\n",
        "  \"\"\" Wraps sympy prime verification to match interface so it can plug in as an alternative checker\n",
        "      when mine gets too slow at higher ranges\n",
        "  \"\"\"\n",
        "  def prime_determination(self, \n",
        "                          n: int, \n",
        "                          witness_group: StarWitnessesInterface = SmallestPossible()\n",
        "                          ) -> bool:\n",
        "    return isprime(n)"
      ],
      "execution_count": 66,
      "outputs": []
    },
    {
      "cell_type": "markdown",
      "metadata": {
        "id": "si4N6Oie3tzn"
      },
      "source": [
        "Let's do some quick edge cases in case (read: because I did) I messed up above"
      ]
    },
    {
      "cell_type": "code",
      "metadata": {
        "colab": {
          "base_uri": "https://localhost:8080/"
        },
        "id": "5U6FDpvX3223",
        "outputId": "a360d451-838b-4805-c5e3-961a1fc6e74e"
      },
      "source": [
        "edge_cases = [1373653,\n",
        "              9080191,\n",
        "              25326001]\n",
        "              # 1122004669633,\n",
        "              # 2152302898747]\n",
        "              # 318665857834031151167461]  # the uppder bounds of each witness group\n",
        "\n",
        "# note: I'm leaving out the big bois because this runs for long enough as is - I did\n",
        "# check it exactly once, it seems to work, maybe, does crash if you run on google colab tho\n",
        "\n",
        "[test_individual_prime_detection(prime_checker=PrimeDetector(), n=test_case) for test_case in edge_cases]\n",
        "\n",
        "other_random_cases = [13, 15, 17, 19, 21]\n",
        "\n",
        "[test_individual_prime_detection(prime_checker=PrimeDetector(), n=test_case) for test_case in other_random_cases]"
      ],
      "execution_count": 67,
      "outputs": [
        {
          "output_type": "stream",
          "name": "stdout",
          "text": [
            "sympy solution: False, submitted prime checker's solution: False\n",
            "sympy solution: False, submitted prime checker's solution: False\n",
            "sympy solution: False, submitted prime checker's solution: False\n",
            "sympy solution: True, submitted prime checker's solution: True\n",
            "sympy solution: False, submitted prime checker's solution: False\n",
            "sympy solution: True, submitted prime checker's solution: True\n",
            "sympy solution: True, submitted prime checker's solution: True\n",
            "sympy solution: False, submitted prime checker's solution: False\n"
          ]
        },
        {
          "output_type": "execute_result",
          "data": {
            "text/plain": [
              "[None, None, None, None, None]"
            ]
          },
          "metadata": {},
          "execution_count": 67
        }
      ]
    },
    {
      "cell_type": "markdown",
      "metadata": {
        "id": "vXR9zqE_Gy-w"
      },
      "source": [
        "### Matt's Liar Score test\n",
        "\n",
        "As part of the video Matt challenges viewers to calculate the numbers most frequently found to lie in the Miller Rabin Test, as a sort of inverse to the star witnesses concept.\n",
        "\n",
        "Here's an implementation of that below which uses the Miller Rabin Test above to make the calculations"
      ]
    },
    {
      "cell_type": "code",
      "metadata": {
        "id": "98FfykX7D1iD"
      },
      "source": [
        "def liar_test_individual(prime_checker: _PrimeCheckerImplementation, n: int, witness: int) -> bool:\n",
        "  \"\"\" False -> Liar, True -> Truthful \"\"\"\n",
        "  return naive_witness_test(n=n, a=witness) == prime_checker.prime_determination(n=n)\n",
        "\n",
        "def liar_test(prime_checker: _PrimeCheckerImplementation, start: int=4, end: int=1000) -> dict[int, int]:\n",
        "  \"\"\" -> a map of each number to the number of \n",
        "      times it lies in the Miller Rabin Test \n",
        "  \"\"\"\n",
        "  odd_numbers= odd_generator(start, end)\n",
        "  liar_test_results: dict[int, int] = {}\n",
        "  for valid_n in odd_numbers:\n",
        "    all_valid_a = (x for x in range(2, valid_n - 1))  # generate valid numbers\n",
        "    for a in all_valid_a:\n",
        "      if not liar_test_individual(prime_checker=prime_checker, n=valid_n, witness=a):\n",
        "        if liar_test_results.get(a) is None:\n",
        "          liar_test_results[a] = 1\n",
        "        liar_test_results[a] += 1\n",
        "  \n",
        "  return liar_test_results"
      ],
      "execution_count": 68,
      "outputs": []
    },
    {
      "cell_type": "code",
      "metadata": {
        "id": "eamuslenFCC_"
      },
      "source": [
        "from bokeh.plotting import figure, show\n",
        "from bokeh.io import output_notebook  # so, %matplotlib widget fails in colab??\n",
        "# anyway, this is my backup for an interactive plot\n",
        "\n",
        "# Call once to configure Bokeh to display plots inline in the notebook.\n",
        "output_notebook()"
      ],
      "execution_count": 69,
      "outputs": []
    },
    {
      "cell_type": "code",
      "metadata": {
        "colab": {
          "base_uri": "https://localhost:8080/",
          "height": 1000
        },
        "id": "KvNPshMbCvD5",
        "outputId": "113e6faa-c654-43c5-fcf1-de57e1566071"
      },
      "source": [
        "import pandas as pd\n",
        "\n",
        "def visualise_liar_test():\n",
        "  dict_data = liar_test(prime_checker=PrimeDetector())\n",
        "  sorted_data = {k: dict_data[k] for k in sorted(dict_data)}  # sort because that's not a defaul\n",
        "  df = pd.DataFrame.from_dict(sorted_data, orient='index')\n",
        "  df.plot()\n",
        "  f = figure()\n",
        "  # add a circle renderer with a size, color, and alpha (values from bokeh docs)\n",
        "  f.circle([key for key in sorted_data.keys()], [value for value in sorted_data.values()], size=20, color=\"navy\", alpha=0.5)\n",
        "  f.line([key for key in sorted_data.keys()], [value for value in sorted_data.values()], line_width=2)\n",
        "  print(df)\n",
        "  show(f)\n",
        "\n",
        "visualise_liar_test()"
      ],
      "execution_count": 70,
      "outputs": [
        {
          "output_type": "stream",
          "name": "stdout",
          "text": [
            "     0\n",
            "3    3\n",
            "4    2\n",
            "5    2\n",
            "6    3\n",
            "7    4\n",
            "..  ..\n",
            "899  2\n",
            "900  2\n",
            "901  2\n",
            "903  2\n",
            "925  2\n",
            "\n",
            "[585 rows x 1 columns]\n"
          ]
        },
        {
          "output_type": "display_data",
          "data": {
            "application/javascript": [
              "\n",
              "(function(root) {\n",
              "  function now() {\n",
              "    return new Date();\n",
              "  }\n",
              "\n",
              "  var force = true;\n",
              "\n",
              "  if (typeof root._bokeh_onload_callbacks === \"undefined\" || force === true) {\n",
              "    root._bokeh_onload_callbacks = [];\n",
              "    root._bokeh_is_loading = undefined;\n",
              "  }\n",
              "\n",
              "  var JS_MIME_TYPE = 'application/javascript';\n",
              "  var HTML_MIME_TYPE = 'text/html';\n",
              "  var EXEC_MIME_TYPE = 'application/vnd.bokehjs_exec.v0+json';\n",
              "  var CLASS_NAME = 'output_bokeh rendered_html';\n",
              "\n",
              "  /**\n",
              "   * Render data to the DOM node\n",
              "   */\n",
              "  function render(props, node) {\n",
              "    var script = document.createElement(\"script\");\n",
              "    node.appendChild(script);\n",
              "  }\n",
              "\n",
              "  /**\n",
              "   * Handle when an output is cleared or removed\n",
              "   */\n",
              "  function handleClearOutput(event, handle) {\n",
              "    var cell = handle.cell;\n",
              "\n",
              "    var id = cell.output_area._bokeh_element_id;\n",
              "    var server_id = cell.output_area._bokeh_server_id;\n",
              "    // Clean up Bokeh references\n",
              "    if (id != null && id in Bokeh.index) {\n",
              "      Bokeh.index[id].model.document.clear();\n",
              "      delete Bokeh.index[id];\n",
              "    }\n",
              "\n",
              "    if (server_id !== undefined) {\n",
              "      // Clean up Bokeh references\n",
              "      var cmd = \"from bokeh.io.state import curstate; print(curstate().uuid_to_server['\" + server_id + \"'].get_sessions()[0].document.roots[0]._id)\";\n",
              "      cell.notebook.kernel.execute(cmd, {\n",
              "        iopub: {\n",
              "          output: function(msg) {\n",
              "            var id = msg.content.text.trim();\n",
              "            if (id in Bokeh.index) {\n",
              "              Bokeh.index[id].model.document.clear();\n",
              "              delete Bokeh.index[id];\n",
              "            }\n",
              "          }\n",
              "        }\n",
              "      });\n",
              "      // Destroy server and session\n",
              "      var cmd = \"import bokeh.io.notebook as ion; ion.destroy_server('\" + server_id + \"')\";\n",
              "      cell.notebook.kernel.execute(cmd);\n",
              "    }\n",
              "  }\n",
              "\n",
              "  /**\n",
              "   * Handle when a new output is added\n",
              "   */\n",
              "  function handleAddOutput(event, handle) {\n",
              "    var output_area = handle.output_area;\n",
              "    var output = handle.output;\n",
              "\n",
              "    // limit handleAddOutput to display_data with EXEC_MIME_TYPE content only\n",
              "    if ((output.output_type != \"display_data\") || (!Object.prototype.hasOwnProperty.call(output.data, EXEC_MIME_TYPE))) {\n",
              "      return\n",
              "    }\n",
              "\n",
              "    var toinsert = output_area.element.find(\".\" + CLASS_NAME.split(' ')[0]);\n",
              "\n",
              "    if (output.metadata[EXEC_MIME_TYPE][\"id\"] !== undefined) {\n",
              "      toinsert[toinsert.length - 1].firstChild.textContent = output.data[JS_MIME_TYPE];\n",
              "      // store reference to embed id on output_area\n",
              "      output_area._bokeh_element_id = output.metadata[EXEC_MIME_TYPE][\"id\"];\n",
              "    }\n",
              "    if (output.metadata[EXEC_MIME_TYPE][\"server_id\"] !== undefined) {\n",
              "      var bk_div = document.createElement(\"div\");\n",
              "      bk_div.innerHTML = output.data[HTML_MIME_TYPE];\n",
              "      var script_attrs = bk_div.children[0].attributes;\n",
              "      for (var i = 0; i < script_attrs.length; i++) {\n",
              "        toinsert[toinsert.length - 1].firstChild.setAttribute(script_attrs[i].name, script_attrs[i].value);\n",
              "        toinsert[toinsert.length - 1].firstChild.textContent = bk_div.children[0].textContent\n",
              "      }\n",
              "      // store reference to server id on output_area\n",
              "      output_area._bokeh_server_id = output.metadata[EXEC_MIME_TYPE][\"server_id\"];\n",
              "    }\n",
              "  }\n",
              "\n",
              "  function register_renderer(events, OutputArea) {\n",
              "\n",
              "    function append_mime(data, metadata, element) {\n",
              "      // create a DOM node to render to\n",
              "      var toinsert = this.create_output_subarea(\n",
              "        metadata,\n",
              "        CLASS_NAME,\n",
              "        EXEC_MIME_TYPE\n",
              "      );\n",
              "      this.keyboard_manager.register_events(toinsert);\n",
              "      // Render to node\n",
              "      var props = {data: data, metadata: metadata[EXEC_MIME_TYPE]};\n",
              "      render(props, toinsert[toinsert.length - 1]);\n",
              "      element.append(toinsert);\n",
              "      return toinsert\n",
              "    }\n",
              "\n",
              "    /* Handle when an output is cleared or removed */\n",
              "    events.on('clear_output.CodeCell', handleClearOutput);\n",
              "    events.on('delete.Cell', handleClearOutput);\n",
              "\n",
              "    /* Handle when a new output is added */\n",
              "    events.on('output_added.OutputArea', handleAddOutput);\n",
              "\n",
              "    /**\n",
              "     * Register the mime type and append_mime function with output_area\n",
              "     */\n",
              "    OutputArea.prototype.register_mime_type(EXEC_MIME_TYPE, append_mime, {\n",
              "      /* Is output safe? */\n",
              "      safe: true,\n",
              "      /* Index of renderer in `output_area.display_order` */\n",
              "      index: 0\n",
              "    });\n",
              "  }\n",
              "\n",
              "  // register the mime type if in Jupyter Notebook environment and previously unregistered\n",
              "  if (root.Jupyter !== undefined) {\n",
              "    var events = require('base/js/events');\n",
              "    var OutputArea = require('notebook/js/outputarea').OutputArea;\n",
              "\n",
              "    if (OutputArea.prototype.mime_types().indexOf(EXEC_MIME_TYPE) == -1) {\n",
              "      register_renderer(events, OutputArea);\n",
              "    }\n",
              "  }\n",
              "\n",
              "  \n",
              "  if (typeof (root._bokeh_timeout) === \"undefined\" || force === true) {\n",
              "    root._bokeh_timeout = Date.now() + 5000;\n",
              "    root._bokeh_failed_load = false;\n",
              "  }\n",
              "\n",
              "  var NB_LOAD_WARNING = {'data': {'text/html':\n",
              "     \"<div style='background-color: #fdd'>\\n\"+\n",
              "     \"<p>\\n\"+\n",
              "     \"BokehJS does not appear to have successfully loaded. If loading BokehJS from CDN, this \\n\"+\n",
              "     \"may be due to a slow or bad network connection. Possible fixes:\\n\"+\n",
              "     \"</p>\\n\"+\n",
              "     \"<ul>\\n\"+\n",
              "     \"<li>re-rerun `output_notebook()` to attempt to load from CDN again, or</li>\\n\"+\n",
              "     \"<li>use INLINE resources instead, as so:</li>\\n\"+\n",
              "     \"</ul>\\n\"+\n",
              "     \"<code>\\n\"+\n",
              "     \"from bokeh.resources import INLINE\\n\"+\n",
              "     \"output_notebook(resources=INLINE)\\n\"+\n",
              "     \"</code>\\n\"+\n",
              "     \"</div>\"}};\n",
              "\n",
              "  function display_loaded() {\n",
              "    var el = document.getElementById(null);\n",
              "    if (el != null) {\n",
              "      el.textContent = \"BokehJS is loading...\";\n",
              "    }\n",
              "    if (root.Bokeh !== undefined) {\n",
              "      if (el != null) {\n",
              "        el.textContent = \"BokehJS \" + root.Bokeh.version + \" successfully loaded.\";\n",
              "      }\n",
              "    } else if (Date.now() < root._bokeh_timeout) {\n",
              "      setTimeout(display_loaded, 100)\n",
              "    }\n",
              "  }\n",
              "\n",
              "\n",
              "  function run_callbacks() {\n",
              "    try {\n",
              "      root._bokeh_onload_callbacks.forEach(function(callback) {\n",
              "        if (callback != null)\n",
              "          callback();\n",
              "      });\n",
              "    } finally {\n",
              "      delete root._bokeh_onload_callbacks\n",
              "    }\n",
              "    console.debug(\"Bokeh: all callbacks have finished\");\n",
              "  }\n",
              "\n",
              "  function load_libs(css_urls, js_urls, callback) {\n",
              "    if (css_urls == null) css_urls = [];\n",
              "    if (js_urls == null) js_urls = [];\n",
              "\n",
              "    root._bokeh_onload_callbacks.push(callback);\n",
              "    if (root._bokeh_is_loading > 0) {\n",
              "      console.debug(\"Bokeh: BokehJS is being loaded, scheduling callback at\", now());\n",
              "      return null;\n",
              "    }\n",
              "    if (js_urls == null || js_urls.length === 0) {\n",
              "      run_callbacks();\n",
              "      return null;\n",
              "    }\n",
              "    console.debug(\"Bokeh: BokehJS not loaded, scheduling load and callback at\", now());\n",
              "    root._bokeh_is_loading = css_urls.length + js_urls.length;\n",
              "\n",
              "    function on_load() {\n",
              "      root._bokeh_is_loading--;\n",
              "      if (root._bokeh_is_loading === 0) {\n",
              "        console.debug(\"Bokeh: all BokehJS libraries/stylesheets loaded\");\n",
              "        run_callbacks()\n",
              "      }\n",
              "    }\n",
              "\n",
              "    function on_error(url) {\n",
              "      console.error(\"failed to load \" + url);\n",
              "    }\n",
              "\n",
              "    for (let i = 0; i < css_urls.length; i++) {\n",
              "      const url = css_urls[i];\n",
              "      const element = document.createElement(\"link\");\n",
              "      element.onload = on_load;\n",
              "      element.onerror = on_error.bind(null, url);\n",
              "      element.rel = \"stylesheet\";\n",
              "      element.type = \"text/css\";\n",
              "      element.href = url;\n",
              "      console.debug(\"Bokeh: injecting link tag for BokehJS stylesheet: \", url);\n",
              "      document.body.appendChild(element);\n",
              "    }\n",
              "\n",
              "    const hashes = {\"https://cdn.bokeh.org/bokeh/release/bokeh-2.3.3.min.js\": \"dM3QQsP+wXdHg42wTqW85BjZQdLNNIXqlPw/BgKoExPmTG7ZLML4EGqLMfqHT6ON\", \"https://cdn.bokeh.org/bokeh/release/bokeh-tables-2.3.3.min.js\": \"8x57I4YuIfu8XyZfFo0XVr2WAT8EK4rh/uDe3wF7YuW2FNUSNEpJbsPaB1nJ2fz2\", \"https://cdn.bokeh.org/bokeh/release/bokeh-widgets-2.3.3.min.js\": \"3QTqdz9LyAm2i0sG5XTePsHec3UHWwVsrOL68SYRoAXsafvfAyqtQ+h440+qIBhS\"};\n",
              "\n",
              "    for (let i = 0; i < js_urls.length; i++) {\n",
              "      const url = js_urls[i];\n",
              "      const element = document.createElement('script');\n",
              "      element.onload = on_load;\n",
              "      element.onerror = on_error.bind(null, url);\n",
              "      element.async = false;\n",
              "      element.src = url;\n",
              "      if (url in hashes) {\n",
              "        element.crossOrigin = \"anonymous\";\n",
              "        element.integrity = \"sha384-\" + hashes[url];\n",
              "      }\n",
              "      console.debug(\"Bokeh: injecting script tag for BokehJS library: \", url);\n",
              "      document.head.appendChild(element);\n",
              "    }\n",
              "  };\n",
              "\n",
              "  function inject_raw_css(css) {\n",
              "    const element = document.createElement(\"style\");\n",
              "    element.appendChild(document.createTextNode(css));\n",
              "    document.body.appendChild(element);\n",
              "  }\n",
              "\n",
              "  \n",
              "  var js_urls = [\"https://cdn.bokeh.org/bokeh/release/bokeh-2.3.3.min.js\", \"https://cdn.bokeh.org/bokeh/release/bokeh-widgets-2.3.3.min.js\", \"https://cdn.bokeh.org/bokeh/release/bokeh-tables-2.3.3.min.js\"];\n",
              "  var css_urls = [];\n",
              "  \n",
              "\n",
              "  var inline_js = [\n",
              "    function(Bokeh) {\n",
              "      Bokeh.set_log_level(\"info\");\n",
              "    },\n",
              "    function(Bokeh) {\n",
              "    \n",
              "    \n",
              "    }\n",
              "  ];\n",
              "\n",
              "  function run_inline_js() {\n",
              "    \n",
              "    if (root.Bokeh !== undefined || force === true) {\n",
              "      \n",
              "    for (var i = 0; i < inline_js.length; i++) {\n",
              "      inline_js[i].call(root, root.Bokeh);\n",
              "    }\n",
              "    } else if (Date.now() < root._bokeh_timeout) {\n",
              "      setTimeout(run_inline_js, 100);\n",
              "    } else if (!root._bokeh_failed_load) {\n",
              "      console.log(\"Bokeh: BokehJS failed to load within specified timeout.\");\n",
              "      root._bokeh_failed_load = true;\n",
              "    } else if (force !== true) {\n",
              "      var cell = $(document.getElementById(null)).parents('.cell').data().cell;\n",
              "      cell.output_area.append_execute_result(NB_LOAD_WARNING)\n",
              "    }\n",
              "\n",
              "  }\n",
              "\n",
              "  if (root._bokeh_is_loading === 0) {\n",
              "    console.debug(\"Bokeh: BokehJS loaded, going straight to plotting\");\n",
              "    run_inline_js();\n",
              "  } else {\n",
              "    load_libs(css_urls, js_urls, function() {\n",
              "      console.debug(\"Bokeh: BokehJS plotting callback run at\", now());\n",
              "      run_inline_js();\n",
              "    });\n",
              "  }\n",
              "}(window));"
            ],
            "application/vnd.bokehjs_load.v0+json": "\n(function(root) {\n  function now() {\n    return new Date();\n  }\n\n  var force = true;\n\n  if (typeof root._bokeh_onload_callbacks === \"undefined\" || force === true) {\n    root._bokeh_onload_callbacks = [];\n    root._bokeh_is_loading = undefined;\n  }\n\n  \n\n  \n  if (typeof (root._bokeh_timeout) === \"undefined\" || force === true) {\n    root._bokeh_timeout = Date.now() + 5000;\n    root._bokeh_failed_load = false;\n  }\n\n  var NB_LOAD_WARNING = {'data': {'text/html':\n     \"<div style='background-color: #fdd'>\\n\"+\n     \"<p>\\n\"+\n     \"BokehJS does not appear to have successfully loaded. If loading BokehJS from CDN, this \\n\"+\n     \"may be due to a slow or bad network connection. Possible fixes:\\n\"+\n     \"</p>\\n\"+\n     \"<ul>\\n\"+\n     \"<li>re-rerun `output_notebook()` to attempt to load from CDN again, or</li>\\n\"+\n     \"<li>use INLINE resources instead, as so:</li>\\n\"+\n     \"</ul>\\n\"+\n     \"<code>\\n\"+\n     \"from bokeh.resources import INLINE\\n\"+\n     \"output_notebook(resources=INLINE)\\n\"+\n     \"</code>\\n\"+\n     \"</div>\"}};\n\n  function display_loaded() {\n    var el = document.getElementById(null);\n    if (el != null) {\n      el.textContent = \"BokehJS is loading...\";\n    }\n    if (root.Bokeh !== undefined) {\n      if (el != null) {\n        el.textContent = \"BokehJS \" + root.Bokeh.version + \" successfully loaded.\";\n      }\n    } else if (Date.now() < root._bokeh_timeout) {\n      setTimeout(display_loaded, 100)\n    }\n  }\n\n\n  function run_callbacks() {\n    try {\n      root._bokeh_onload_callbacks.forEach(function(callback) {\n        if (callback != null)\n          callback();\n      });\n    } finally {\n      delete root._bokeh_onload_callbacks\n    }\n    console.debug(\"Bokeh: all callbacks have finished\");\n  }\n\n  function load_libs(css_urls, js_urls, callback) {\n    if (css_urls == null) css_urls = [];\n    if (js_urls == null) js_urls = [];\n\n    root._bokeh_onload_callbacks.push(callback);\n    if (root._bokeh_is_loading > 0) {\n      console.debug(\"Bokeh: BokehJS is being loaded, scheduling callback at\", now());\n      return null;\n    }\n    if (js_urls == null || js_urls.length === 0) {\n      run_callbacks();\n      return null;\n    }\n    console.debug(\"Bokeh: BokehJS not loaded, scheduling load and callback at\", now());\n    root._bokeh_is_loading = css_urls.length + js_urls.length;\n\n    function on_load() {\n      root._bokeh_is_loading--;\n      if (root._bokeh_is_loading === 0) {\n        console.debug(\"Bokeh: all BokehJS libraries/stylesheets loaded\");\n        run_callbacks()\n      }\n    }\n\n    function on_error(url) {\n      console.error(\"failed to load \" + url);\n    }\n\n    for (let i = 0; i < css_urls.length; i++) {\n      const url = css_urls[i];\n      const element = document.createElement(\"link\");\n      element.onload = on_load;\n      element.onerror = on_error.bind(null, url);\n      element.rel = \"stylesheet\";\n      element.type = \"text/css\";\n      element.href = url;\n      console.debug(\"Bokeh: injecting link tag for BokehJS stylesheet: \", url);\n      document.body.appendChild(element);\n    }\n\n    const hashes = {\"https://cdn.bokeh.org/bokeh/release/bokeh-2.3.3.min.js\": \"dM3QQsP+wXdHg42wTqW85BjZQdLNNIXqlPw/BgKoExPmTG7ZLML4EGqLMfqHT6ON\", \"https://cdn.bokeh.org/bokeh/release/bokeh-tables-2.3.3.min.js\": \"8x57I4YuIfu8XyZfFo0XVr2WAT8EK4rh/uDe3wF7YuW2FNUSNEpJbsPaB1nJ2fz2\", \"https://cdn.bokeh.org/bokeh/release/bokeh-widgets-2.3.3.min.js\": \"3QTqdz9LyAm2i0sG5XTePsHec3UHWwVsrOL68SYRoAXsafvfAyqtQ+h440+qIBhS\"};\n\n    for (let i = 0; i < js_urls.length; i++) {\n      const url = js_urls[i];\n      const element = document.createElement('script');\n      element.onload = on_load;\n      element.onerror = on_error.bind(null, url);\n      element.async = false;\n      element.src = url;\n      if (url in hashes) {\n        element.crossOrigin = \"anonymous\";\n        element.integrity = \"sha384-\" + hashes[url];\n      }\n      console.debug(\"Bokeh: injecting script tag for BokehJS library: \", url);\n      document.head.appendChild(element);\n    }\n  };\n\n  function inject_raw_css(css) {\n    const element = document.createElement(\"style\");\n    element.appendChild(document.createTextNode(css));\n    document.body.appendChild(element);\n  }\n\n  \n  var js_urls = [\"https://cdn.bokeh.org/bokeh/release/bokeh-2.3.3.min.js\", \"https://cdn.bokeh.org/bokeh/release/bokeh-widgets-2.3.3.min.js\", \"https://cdn.bokeh.org/bokeh/release/bokeh-tables-2.3.3.min.js\"];\n  var css_urls = [];\n  \n\n  var inline_js = [\n    function(Bokeh) {\n      Bokeh.set_log_level(\"info\");\n    },\n    function(Bokeh) {\n    \n    \n    }\n  ];\n\n  function run_inline_js() {\n    \n    if (root.Bokeh !== undefined || force === true) {\n      \n    for (var i = 0; i < inline_js.length; i++) {\n      inline_js[i].call(root, root.Bokeh);\n    }\n    } else if (Date.now() < root._bokeh_timeout) {\n      setTimeout(run_inline_js, 100);\n    } else if (!root._bokeh_failed_load) {\n      console.log(\"Bokeh: BokehJS failed to load within specified timeout.\");\n      root._bokeh_failed_load = true;\n    } else if (force !== true) {\n      var cell = $(document.getElementById(null)).parents('.cell').data().cell;\n      cell.output_area.append_execute_result(NB_LOAD_WARNING)\n    }\n\n  }\n\n  if (root._bokeh_is_loading === 0) {\n    console.debug(\"Bokeh: BokehJS loaded, going straight to plotting\");\n    run_inline_js();\n  } else {\n    load_libs(css_urls, js_urls, function() {\n      console.debug(\"Bokeh: BokehJS plotting callback run at\", now());\n      run_inline_js();\n    });\n  }\n}(window));"
          },
          "metadata": {}
        },
        {
          "output_type": "display_data",
          "data": {
            "text/html": [
              "\n",
              "\n",
              "\n",
              "\n",
              "\n",
              "\n",
              "  <div class=\"bk-root\" id=\"816e1229-2e97-4220-b5dd-bd568070fe0c\" data-root-id=\"2074\"></div>\n"
            ]
          },
          "metadata": {}
        },
        {
          "output_type": "display_data",
          "data": {
            "application/javascript": [
              "(function(root) {\n",
              "  function embed_document(root) {\n",
              "    \n",
              "  var docs_json = {\"8c24b5f4-2253-4f52-b2d8-02449a6f27de\":{\"defs\":[],\"roots\":{\"references\":[{\"attributes\":{\"below\":[{\"id\":\"2083\"}],\"center\":[{\"id\":\"2086\"},{\"id\":\"2090\"}],\"left\":[{\"id\":\"2087\"}],\"renderers\":[{\"id\":\"2108\"},{\"id\":\"2113\"}],\"title\":{\"id\":\"2190\"},\"toolbar\":{\"id\":\"2098\"},\"x_range\":{\"id\":\"2075\"},\"x_scale\":{\"id\":\"2079\"},\"y_range\":{\"id\":\"2077\"},\"y_scale\":{\"id\":\"2081\"}},\"id\":\"2074\",\"subtype\":\"Figure\",\"type\":\"Plot\"},{\"attributes\":{},\"id\":\"2081\",\"type\":\"LinearScale\"},{\"attributes\":{\"formatter\":{\"id\":\"2195\"},\"major_label_policy\":{\"id\":\"2194\"},\"ticker\":{\"id\":\"2088\"}},\"id\":\"2087\",\"type\":\"LinearAxis\"},{\"attributes\":{\"fill_alpha\":{\"value\":0.5},\"fill_color\":{\"value\":\"navy\"},\"line_alpha\":{\"value\":0.5},\"line_color\":{\"value\":\"navy\"},\"size\":{\"value\":20},\"x\":{\"field\":\"x\"},\"y\":{\"field\":\"y\"}},\"id\":\"2106\",\"type\":\"Circle\"},{\"attributes\":{\"overlay\":{\"id\":\"2097\"}},\"id\":\"2093\",\"type\":\"BoxZoomTool\"},{\"attributes\":{\"data\":{\"x\":[3,4,5,6,7,8,9,10,11,12,13,14,16,17,18,19,20,21,22,23,24,25,26,27,28,29,30,31,32,33,34,36,37,38,39,40,41,42,43,44,45,46,47,48,49,50,51,52,53,54,56,57,58,59,60,61,62,63,64,65,66,67,68,69,70,72,73,74,75,76,78,79,80,81,82,83,85,86,87,88,89,92,93,94,96,97,98,99,100,101,102,103,105,106,107,108,110,111,112,115,116,117,118,119,120,121,122,123,124,125,126,127,128,129,130,131,132,133,134,135,136,137,138,139,141,142,144,145,146,147,148,149,150,151,153,154,155,156,157,158,159,160,161,162,163,164,165,166,167,169,170,171,172,173,174,177,178,179,180,181,182,183,184,185,186,188,189,190,191,192,193,194,195,196,197,199,200,201,202,203,204,207,208,209,211,212,214,215,216,218,219,221,222,223,224,225,226,227,228,229,230,231,232,233,234,235,236,237,241,242,243,244,245,247,248,249,250,251,253,254,255,256,257,258,259,260,262,263,264,265,266,267,268,269,270,271,273,274,275,276,277,278,280,281,282,283,284,285,286,287,288,289,290,291,292,293,294,295,296,298,299,300,302,304,305,306,307,308,309,310,311,312,313,314,315,316,317,318,319,321,322,324,325,326,327,329,330,331,332,333,334,336,337,338,339,340,342,343,344,345,346,349,351,352,353,354,355,356,359,360,361,362,363,365,366,367,369,372,373,374,375,377,378,379,380,381,382,383,384,386,388,389,391,392,393,394,395,396,398,399,400,401,403,404,408,409,410,411,412,414,416,417,418,419,421,423,425,426,427,428,429,430,431,432,435,436,437,438,439,440,441,442,443,445,447,448,449,450,451,453,454,455,458,459,460,461,462,463,464,466,467,468,469,471,472,473,474,475,478,479,480,482,485,487,489,491,492,495,498,499,500,501,502,503,506,507,508,509,511,512,513,514,519,520,521,522,524,527,528,529,530,531,532,535,536,538,544,545,546,547,551,552,554,556,557,558,559,561,562,563,565,566,567,568,570,571,572,573,574,575,576,577,578,580,581,582,583,585,587,590,591,593,597,601,602,603,605,606,607,612,613,617,619,620,622,623,625,628,629,630,631,634,636,637,638,639,640,641,642,643,645,648,649,651,652,654,655,656,659,662,663,664,672,674,675,676,677,681,682,684,687,689,694,696,700,704,715,718,719,721,726,728,730,731,732,733,734,735,737,738,743,756,757,761,764,767,768,772,776,778,780,781,782,794,800,802,803,809,816,827,830,833,835,841,842,843,844,846,852,853,857,867,868,869,871,873,875,876,879,882,899,900,901,903,925],\"y\":[3,2,2,3,4,4,5,2,3,5,2,2,7,4,6,4,3,4,4,4,4,3,5,6,4,5,8,5,5,2,2,4,6,6,2,5,5,3,3,3,2,5,7,4,4,4,2,2,2,4,2,4,3,2,3,3,5,4,7,3,2,3,8,5,6,5,4,6,7,2,4,5,4,7,6,5,3,2,6,4,2,4,4,4,2,6,2,5,5,4,3,5,2,2,3,3,4,2,4,2,4,4,5,5,3,6,5,5,3,5,3,3,4,2,3,2,6,4,3,4,5,5,4,2,3,3,3,3,3,5,2,8,4,5,2,3,3,3,7,5,5,3,3,4,4,3,4,4,2,3,2,3,5,5,3,3,6,6,3,4,6,2,4,2,3,2,3,5,7,6,5,3,4,4,3,3,2,4,3,2,2,2,2,5,5,6,4,3,5,5,3,7,3,3,2,2,3,3,3,4,7,3,4,4,3,4,5,2,2,4,3,3,4,2,3,4,3,2,3,3,4,8,3,2,2,2,4,5,3,6,2,4,5,3,3,5,2,5,2,3,3,5,3,2,2,2,3,3,2,3,2,2,2,2,4,7,3,5,2,2,4,3,5,4,4,3,6,2,3,4,3,2,3,2,3,3,3,3,4,2,2,4,4,3,5,3,2,3,3,3,5,3,3,3,3,2,5,3,3,2,2,2,2,5,3,3,2,5,4,2,2,5,2,3,4,4,4,4,7,7,2,2,2,4,3,3,2,2,2,4,2,3,3,3,5,2,3,3,4,2,3,2,5,3,4,2,2,7,2,4,4,2,2,5,2,2,3,3,2,2,2,3,2,3,3,2,4,2,3,3,3,2,3,2,4,4,3,3,3,2,2,2,2,2,5,2,2,2,2,2,5,2,2,3,4,2,2,2,2,2,2,4,4,4,3,3,2,2,3,3,2,4,3,2,2,2,3,4,2,2,3,6,3,3,5,4,2,2,3,2,3,2,2,2,2,3,2,2,2,2,2,6,3,2,3,2,2,2,4,3,2,2,3,2,2,4,2,4,2,2,3,3,2,2,2,3,3,3,4,3,3,2,2,3,2,2,2,3,2,2,2,2,2,3,2,2,3,2,2,3,3,2,2,2,4,3,3,2,2,2,2,2,2,3,3,2,3,3,3,3,2,2,2,2,2,4,2,2,3,2,2,2,2,3,3,3,2,2,2,2,2,2,3,2,3,2,2,2,2,2,3,2,2,3,2,2,2,3,2,2,2,3,3,2,3,2,2,2,2,3,2,2,2,2,2,2,2,2,2,2,2,2,2,2,2,2,2,2,2,2,2,2,2,2,2]},\"selected\":{\"id\":\"2200\"},\"selection_policy\":{\"id\":\"2201\"}},\"id\":\"2110\",\"type\":\"ColumnDataSource\"},{\"attributes\":{},\"id\":\"2088\",\"type\":\"BasicTicker\"},{\"attributes\":{\"data\":{\"x\":[3,4,5,6,7,8,9,10,11,12,13,14,16,17,18,19,20,21,22,23,24,25,26,27,28,29,30,31,32,33,34,36,37,38,39,40,41,42,43,44,45,46,47,48,49,50,51,52,53,54,56,57,58,59,60,61,62,63,64,65,66,67,68,69,70,72,73,74,75,76,78,79,80,81,82,83,85,86,87,88,89,92,93,94,96,97,98,99,100,101,102,103,105,106,107,108,110,111,112,115,116,117,118,119,120,121,122,123,124,125,126,127,128,129,130,131,132,133,134,135,136,137,138,139,141,142,144,145,146,147,148,149,150,151,153,154,155,156,157,158,159,160,161,162,163,164,165,166,167,169,170,171,172,173,174,177,178,179,180,181,182,183,184,185,186,188,189,190,191,192,193,194,195,196,197,199,200,201,202,203,204,207,208,209,211,212,214,215,216,218,219,221,222,223,224,225,226,227,228,229,230,231,232,233,234,235,236,237,241,242,243,244,245,247,248,249,250,251,253,254,255,256,257,258,259,260,262,263,264,265,266,267,268,269,270,271,273,274,275,276,277,278,280,281,282,283,284,285,286,287,288,289,290,291,292,293,294,295,296,298,299,300,302,304,305,306,307,308,309,310,311,312,313,314,315,316,317,318,319,321,322,324,325,326,327,329,330,331,332,333,334,336,337,338,339,340,342,343,344,345,346,349,351,352,353,354,355,356,359,360,361,362,363,365,366,367,369,372,373,374,375,377,378,379,380,381,382,383,384,386,388,389,391,392,393,394,395,396,398,399,400,401,403,404,408,409,410,411,412,414,416,417,418,419,421,423,425,426,427,428,429,430,431,432,435,436,437,438,439,440,441,442,443,445,447,448,449,450,451,453,454,455,458,459,460,461,462,463,464,466,467,468,469,471,472,473,474,475,478,479,480,482,485,487,489,491,492,495,498,499,500,501,502,503,506,507,508,509,511,512,513,514,519,520,521,522,524,527,528,529,530,531,532,535,536,538,544,545,546,547,551,552,554,556,557,558,559,561,562,563,565,566,567,568,570,571,572,573,574,575,576,577,578,580,581,582,583,585,587,590,591,593,597,601,602,603,605,606,607,612,613,617,619,620,622,623,625,628,629,630,631,634,636,637,638,639,640,641,642,643,645,648,649,651,652,654,655,656,659,662,663,664,672,674,675,676,677,681,682,684,687,689,694,696,700,704,715,718,719,721,726,728,730,731,732,733,734,735,737,738,743,756,757,761,764,767,768,772,776,778,780,781,782,794,800,802,803,809,816,827,830,833,835,841,842,843,844,846,852,853,857,867,868,869,871,873,875,876,879,882,899,900,901,903,925],\"y\":[3,2,2,3,4,4,5,2,3,5,2,2,7,4,6,4,3,4,4,4,4,3,5,6,4,5,8,5,5,2,2,4,6,6,2,5,5,3,3,3,2,5,7,4,4,4,2,2,2,4,2,4,3,2,3,3,5,4,7,3,2,3,8,5,6,5,4,6,7,2,4,5,4,7,6,5,3,2,6,4,2,4,4,4,2,6,2,5,5,4,3,5,2,2,3,3,4,2,4,2,4,4,5,5,3,6,5,5,3,5,3,3,4,2,3,2,6,4,3,4,5,5,4,2,3,3,3,3,3,5,2,8,4,5,2,3,3,3,7,5,5,3,3,4,4,3,4,4,2,3,2,3,5,5,3,3,6,6,3,4,6,2,4,2,3,2,3,5,7,6,5,3,4,4,3,3,2,4,3,2,2,2,2,5,5,6,4,3,5,5,3,7,3,3,2,2,3,3,3,4,7,3,4,4,3,4,5,2,2,4,3,3,4,2,3,4,3,2,3,3,4,8,3,2,2,2,4,5,3,6,2,4,5,3,3,5,2,5,2,3,3,5,3,2,2,2,3,3,2,3,2,2,2,2,4,7,3,5,2,2,4,3,5,4,4,3,6,2,3,4,3,2,3,2,3,3,3,3,4,2,2,4,4,3,5,3,2,3,3,3,5,3,3,3,3,2,5,3,3,2,2,2,2,5,3,3,2,5,4,2,2,5,2,3,4,4,4,4,7,7,2,2,2,4,3,3,2,2,2,4,2,3,3,3,5,2,3,3,4,2,3,2,5,3,4,2,2,7,2,4,4,2,2,5,2,2,3,3,2,2,2,3,2,3,3,2,4,2,3,3,3,2,3,2,4,4,3,3,3,2,2,2,2,2,5,2,2,2,2,2,5,2,2,3,4,2,2,2,2,2,2,4,4,4,3,3,2,2,3,3,2,4,3,2,2,2,3,4,2,2,3,6,3,3,5,4,2,2,3,2,3,2,2,2,2,3,2,2,2,2,2,6,3,2,3,2,2,2,4,3,2,2,3,2,2,4,2,4,2,2,3,3,2,2,2,3,3,3,4,3,3,2,2,3,2,2,2,3,2,2,2,2,2,3,2,2,3,2,2,3,3,2,2,2,4,3,3,2,2,2,2,2,2,3,3,2,3,3,3,3,2,2,2,2,2,4,2,2,3,2,2,2,2,3,3,3,2,2,2,2,2,2,3,2,3,2,2,2,2,2,3,2,2,3,2,2,2,3,2,2,2,3,3,2,3,2,2,2,2,3,2,2,2,2,2,2,2,2,2,2,2,2,2,2,2,2,2,2,2,2,2,2,2,2,2]},\"selected\":{\"id\":\"2198\"},\"selection_policy\":{\"id\":\"2199\"}},\"id\":\"2105\",\"type\":\"ColumnDataSource\"},{\"attributes\":{\"line_alpha\":0.1,\"line_color\":\"#1f77b4\",\"line_width\":2,\"x\":{\"field\":\"x\"},\"y\":{\"field\":\"y\"}},\"id\":\"2112\",\"type\":\"Line\"},{\"attributes\":{\"active_multi\":null,\"tools\":[{\"id\":\"2091\"},{\"id\":\"2092\"},{\"id\":\"2093\"},{\"id\":\"2094\"},{\"id\":\"2095\"},{\"id\":\"2096\"}]},\"id\":\"2098\",\"type\":\"Toolbar\"},{\"attributes\":{},\"id\":\"2190\",\"type\":\"Title\"},{\"attributes\":{},\"id\":\"2077\",\"type\":\"DataRange1d\"},{\"attributes\":{},\"id\":\"2200\",\"type\":\"Selection\"},{\"attributes\":{\"data_source\":{\"id\":\"2105\"},\"glyph\":{\"id\":\"2106\"},\"hover_glyph\":null,\"muted_glyph\":null,\"nonselection_glyph\":{\"id\":\"2107\"},\"view\":{\"id\":\"2109\"}},\"id\":\"2108\",\"type\":\"GlyphRenderer\"},{\"attributes\":{\"source\":{\"id\":\"2105\"}},\"id\":\"2109\",\"type\":\"CDSView\"},{\"attributes\":{},\"id\":\"2096\",\"type\":\"HelpTool\"},{\"attributes\":{\"formatter\":{\"id\":\"2192\"},\"major_label_policy\":{\"id\":\"2191\"},\"ticker\":{\"id\":\"2084\"}},\"id\":\"2083\",\"type\":\"LinearAxis\"},{\"attributes\":{},\"id\":\"2075\",\"type\":\"DataRange1d\"},{\"attributes\":{},\"id\":\"2092\",\"type\":\"WheelZoomTool\"},{\"attributes\":{\"data_source\":{\"id\":\"2110\"},\"glyph\":{\"id\":\"2111\"},\"hover_glyph\":null,\"muted_glyph\":null,\"nonselection_glyph\":{\"id\":\"2112\"},\"view\":{\"id\":\"2114\"}},\"id\":\"2113\",\"type\":\"GlyphRenderer\"},{\"attributes\":{},\"id\":\"2192\",\"type\":\"BasicTickFormatter\"},{\"attributes\":{},\"id\":\"2084\",\"type\":\"BasicTicker\"},{\"attributes\":{\"fill_alpha\":{\"value\":0.1},\"fill_color\":{\"value\":\"navy\"},\"line_alpha\":{\"value\":0.1},\"line_color\":{\"value\":\"navy\"},\"size\":{\"value\":20},\"x\":{\"field\":\"x\"},\"y\":{\"field\":\"y\"}},\"id\":\"2107\",\"type\":\"Circle\"},{\"attributes\":{},\"id\":\"2094\",\"type\":\"SaveTool\"},{\"attributes\":{\"line_color\":\"#1f77b4\",\"line_width\":2,\"x\":{\"field\":\"x\"},\"y\":{\"field\":\"y\"}},\"id\":\"2111\",\"type\":\"Line\"},{\"attributes\":{},\"id\":\"2195\",\"type\":\"BasicTickFormatter\"},{\"attributes\":{},\"id\":\"2091\",\"type\":\"PanTool\"},{\"attributes\":{},\"id\":\"2095\",\"type\":\"ResetTool\"},{\"attributes\":{\"bottom_units\":\"screen\",\"fill_alpha\":0.5,\"fill_color\":\"lightgrey\",\"left_units\":\"screen\",\"level\":\"overlay\",\"line_alpha\":1.0,\"line_color\":\"black\",\"line_dash\":[4,4],\"line_width\":2,\"right_units\":\"screen\",\"syncable\":false,\"top_units\":\"screen\"},\"id\":\"2097\",\"type\":\"BoxAnnotation\"},{\"attributes\":{\"axis\":{\"id\":\"2087\"},\"dimension\":1,\"ticker\":null},\"id\":\"2090\",\"type\":\"Grid\"},{\"attributes\":{\"axis\":{\"id\":\"2083\"},\"ticker\":null},\"id\":\"2086\",\"type\":\"Grid\"},{\"attributes\":{},\"id\":\"2194\",\"type\":\"AllLabels\"},{\"attributes\":{},\"id\":\"2079\",\"type\":\"LinearScale\"},{\"attributes\":{\"source\":{\"id\":\"2110\"}},\"id\":\"2114\",\"type\":\"CDSView\"},{\"attributes\":{},\"id\":\"2198\",\"type\":\"Selection\"},{\"attributes\":{},\"id\":\"2201\",\"type\":\"UnionRenderers\"},{\"attributes\":{},\"id\":\"2191\",\"type\":\"AllLabels\"},{\"attributes\":{},\"id\":\"2199\",\"type\":\"UnionRenderers\"}],\"root_ids\":[\"2074\"]},\"title\":\"Bokeh Application\",\"version\":\"2.3.3\"}};\n",
              "  var render_items = [{\"docid\":\"8c24b5f4-2253-4f52-b2d8-02449a6f27de\",\"root_ids\":[\"2074\"],\"roots\":{\"2074\":\"816e1229-2e97-4220-b5dd-bd568070fe0c\"}}];\n",
              "  root.Bokeh.embed.embed_items_notebook(docs_json, render_items);\n",
              "\n",
              "  }\n",
              "  if (root.Bokeh !== undefined) {\n",
              "    embed_document(root);\n",
              "  } else {\n",
              "    var attempts = 0;\n",
              "    var timer = setInterval(function(root) {\n",
              "      if (root.Bokeh !== undefined) {\n",
              "        clearInterval(timer);\n",
              "        embed_document(root);\n",
              "      } else {\n",
              "        attempts++;\n",
              "        if (attempts > 100) {\n",
              "          clearInterval(timer);\n",
              "          console.log(\"Bokeh: ERROR: Unable to run BokehJS code because BokehJS library is missing\");\n",
              "        }\n",
              "      }\n",
              "    }, 10, root)\n",
              "  }\n",
              "})(window);"
            ],
            "application/vnd.bokehjs_exec.v0+json": ""
          },
          "metadata": {
            "application/vnd.bokehjs_exec.v0+json": {
              "id": "2074"
            }
          }
        },
        {
          "output_type": "display_data",
          "data": {
            "image/png": "[encoded data removed]",
            "text/plain": [
              "<Figure size 432x288 with 1 Axes>"
            ]
          },
          "metadata": {
            "needs_background": "light"
          }
        }
      ]
    },
    {
      "cell_type": "markdown",
      "metadata": {
        "id": "l40ztrEUOPJN"
      },
      "source": [
        "Let's define some visualisation interfaces before we wrap this all up in a cool bow"
      ]
    },
    {
      "cell_type": "code",
      "metadata": {
        "id": "u9MSeWPEAohQ"
      },
      "source": [
        "class _VisualisationInterface(Protocol):\n",
        "  def __call__(map_of_liars_to_count: dict[int, int], verbose: bool=False) -> None:...\n",
        "  \"\"\" defines the function that takes the sorted dict object and visualises the data \"\"\"\n",
        "\n",
        "def PandasVisualisation(map_of_liars_to_count: dict[int, int], verbose: bool=False) -> None:\n",
        "  df = pd.DataFrame.from_dict(map_of_liars_to_count, orient='index')\n",
        "  if verbose:\n",
        "    print(df)\n",
        "  df.plot()\n",
        "\n",
        "def BokehVisualisation(map_of_liars_to_count: dict[int, int], verbose: bool=False) -> None:\n",
        "  f = figure()\n",
        "  # add a circle renderer with a size, color, and alpha (values from bokeh docs)\n",
        "  f.circle([key for key in map_of_liars_to_count.keys()], [value for value in map_of_liars_to_count.values()], size=20, color=\"navy\", alpha=0.5)\n",
        "  f.line([key for key in map_of_liars_to_count.keys()], [value for value in map_of_liars_to_count.values()], line_width=2)\n",
        "  if verbose:\n",
        "    print(map_of_liars_to_count)\n",
        "  show(f)\n"
      ],
      "execution_count": 71,
      "outputs": []
    },
    {
      "cell_type": "markdown",
      "metadata": {
        "id": "jMUYZe8DQNfc"
      },
      "source": [
        "Now let's build the object that runs these liar tests"
      ]
    },
    {
      "cell_type": "code",
      "metadata": {
        "colab": {
          "base_uri": "https://localhost:8080/",
          "height": 265
        },
        "id": "Lx2f_9O1QSRY",
        "outputId": "af6750d0-17d3-4093-8431-87e4a9777b74"
      },
      "source": [
        "class LiarTestRunner:\n",
        "  def __init__(self, end: int=3_000):\n",
        "    self.end = end\n",
        "    unsorted_dict = liar_test(prime_checker=PrimeDetectorSympy(), end=self.end)\n",
        "    self.liar_data = {k: unsorted_dict[k] for k in sorted(unsorted_dict)}\n",
        "  \n",
        "  def visualise_liars(self, visualiser: _VisualisationInterface):\n",
        "    visualiser(map_of_liars_to_count=self.liar_data)\n",
        "\n",
        "runner = LiarTestRunner()\n",
        "runner.visualise_liars(visualiser=PandasVisualisation)"
      ],
      "execution_count": 73,
      "outputs": [
        {
          "output_type": "display_data",
          "data": {
            "image/png": "[encoded data removed]",
            "text/plain": [
              "<Figure size 432x288 with 1 Axes>"
            ]
          },
          "metadata": {
            "needs_background": "light"
          }
        }
      ]
    },
    {
      "cell_type": "code",
      "metadata": {
        "id": "v7ekIrhOR5V8"
      },
      "source": [
        ""
      ],
      "execution_count": null,
      "outputs": []
    }
  ]
}