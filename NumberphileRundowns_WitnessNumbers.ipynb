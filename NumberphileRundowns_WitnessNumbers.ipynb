{
  "nbformat": 4,
  "nbformat_minor": 0,
  "metadata": {
    "colab": {
      "name": "NumberphileRundowns-WitnessNumbers.ipynb",
      "provenance": [],
      "authorship_tag": "ABX9TyOGkSS/Vn7Ap6S2Ymf7aCKf",
      "include_colab_link": true
    },
    "kernelspec": {
      "name": "python3",
      "display_name": "Python 3"
    },
    "language_info": {
      "name": "python"
    }
  },
  "cells": [
    {
      "cell_type": "markdown",
      "metadata": {
        "id": "view-in-github",
        "colab_type": "text"
      },
      "source": [
        "<a href=\"https://colab.research.google.com/github/GregSym/Numberphile_Follow_Alongs/blob/spoon/NumberphileRundowns_WitnessNumbers.ipynb\" target=\"_parent\"><img src=\"https://colab.research.google.com/assets/colab-badge.svg\" alt=\"Open In Colab\"/></a>"
      ]
    },
    {
      "cell_type": "markdown",
      "metadata": {
        "id": "DIpqC1C3EV87"
      },
      "source": [
        "<h1>Numberphile Follow-Along Maths</h1>\n",
        "\n",
        "Here follow some selected numberphile math reviews"
      ]
    },
    {
      "cell_type": "markdown",
      "metadata": {
        "id": "aWKXikd4Enqa"
      },
      "source": [
        "# Witness Numbers (and the truthful 1,662,803) - Numberphile\n",
        "## Nov 28, 2021\n",
        "\n",
        "https://www.youtube.com/watch?v=_MscGSN5J6o"
      ]
    },
    {
      "cell_type": "markdown",
      "metadata": {
        "id": "aA5Efbsd4IAr"
      },
      "source": [
        "<h3>here's a pythonic breakdown of the intro to the video:</h3>\n",
        "\n",
        "(Matt Parker does sort of gloss over the recursive algorithm he's using, but it's easier in real maths than in a program so we'll forgive him that)"
      ]
    },
    {
      "cell_type": "code",
      "metadata": {
        "colab": {
          "base_uri": "https://localhost:8080/"
        },
        "id": "m5tyByv2EVEQ",
        "outputId": "1806caf8-ab5c-41c2-a82b-185f6ecf1254"
      },
      "source": [
        "from __future__ import annotations  # alt for typing import, allows 3.9^ typing\n",
        "\n",
        "n: int = 747  # number to test\n",
        "a: int = 23  # witness number\n",
        "\n",
        "# test rules\n",
        "assert n > 2 and n%2 == 1  # odd n greater than 2\n",
        "\n",
        "def recursive_coeffecient_calculation(n_minus_1: int, m: int=1) -> tuple[int, int]:\n",
        "  \"\"\" Recursively determine the coefficient d in the equation: n = 2**m * d + 1 \"\"\"\n",
        "  d_float: float = n_minus_1 / 2  # note: python will treat this as a float, typing aside\n",
        "  assert d_float.is_integer()  # ensure int and then convert\n",
        "  d: int = int(d_float)\n",
        "  if d%2 == 0:\n",
        "    m += 1\n",
        "    d, m = recursive_coeffecient_calculation(n_minus_1=d, m=m)\n",
        "  return d, m\n",
        "  \n",
        "\n",
        "\n",
        "d, m = recursive_coeffecient_calculation(n_minus_1=n - 1)\n",
        "\n",
        "rearrangement = (2 ** m) * d + 1\n",
        "rearrangement"
      ],
      "execution_count": 54,
      "outputs": [
        {
          "output_type": "execute_result",
          "data": {
            "text/plain": [
              "747"
            ]
          },
          "metadata": {},
          "execution_count": 54
        }
      ]
    },
    {
      "cell_type": "markdown",
      "metadata": {
        "id": "PVFgIuyj4vyU"
      },
      "source": [
        "The next step is the test a^d == 1 mod n"
      ]
    },
    {
      "cell_type": "code",
      "metadata": {
        "colab": {
          "base_uri": "https://localhost:8080/"
        },
        "id": "a5BZ9YLC1V_J",
        "outputId": "46ad2fd4-3030-49ad-f5f0-5dba2dd36b39"
      },
      "source": [
        "(a**d)%n  # plugging large floats into d here will overflow, hence the conversion above\n"
      ],
      "execution_count": 55,
      "outputs": [
        {
          "output_type": "execute_result",
          "data": {
            "text/plain": [
              "131"
            ]
          },
          "metadata": {},
          "execution_count": 55
        }
      ]
    },
    {
      "cell_type": "markdown",
      "metadata": {
        "id": "_MRqUotd82Ck"
      },
      "source": [
        "With the final Witness Test looking like this:"
      ]
    },
    {
      "cell_type": "code",
      "metadata": {
        "colab": {
          "base_uri": "https://localhost:8080/"
        },
        "id": "jY7XmOe55B-R",
        "outputId": "a7c1b893-a197-47a9-fef5-afa30d26eed4"
      },
      "source": [
        "if (a**d)%n == 1 or (a**d)%n == -1 or (a**d)%n == n - 1:  # I don't think mod ever returns -1 in python, this is just included as an explainer for the third clause\n",
        "  print(True)\n",
        "else:\n",
        "  print(False)"
      ],
      "execution_count": 56,
      "outputs": [
        {
          "output_type": "stream",
          "name": "stdout",
          "text": [
            "False\n"
          ]
        }
      ]
    },
    {
      "cell_type": "markdown",
      "metadata": {
        "id": "QtA5M5J09RdK"
      },
      "source": [
        "Note: a false is 100% reliable, a True is not (True here meaning n is prime)\n",
        "\n",
        "Per Matt Parker: \"They're called strong liars\""
      ]
    },
    {
      "cell_type": "markdown",
      "metadata": {
        "id": "EEDdnA9Q93B5"
      },
      "source": [
        "### Naive Implementation\n",
        "\n",
        "They then demonstrate a liar (10) in action on n of 91 - so I'm going to write out a naive implementation of a witness test function without multiple witnesses\n",
        "\n",
        "probably worth including the algorithm as implemented on Wikipedia here, because\n",
        "they don't go into super deep detail on how higher values of m are handled in the numberphile video: https://en.wikipedia.org/wiki/Miller%E2%80%93Rabin_primality_test\n",
        "```\n",
        "Input #1: n > 3, an odd integer to be tested for primality\n",
        "Input #2: k, the number of rounds of testing to perform\n",
        "Output: “composite” if n is found to be composite, “probably prime” otherwise\n",
        "\n",
        "write n as 2^r·d + 1 with d odd (by factoring out powers of 2 from n − 1)\n",
        "WitnessLoop: repeat k times:\n",
        "    pick a random integer a in the range [2, n − 2]\n",
        "    x ← a^d mod n\n",
        "    if x = 1 or x = n − 1 then\n",
        "        continue WitnessLoop\n",
        "    repeat r − 1 times:\n",
        "        x ← x^2 mod n\n",
        "        if x = n − 1 then\n",
        "            continue WitnessLoop\n",
        "    return “composite”\n",
        "return “probably prime”\n",
        "```\n",
        "note: I the loop is doing the thing where it checks every number for n - 2 and returning a probabilistic primeness, the below function is concerned only with the inside of the WitnessLoop, but it references it in the continue statements, so I'm including the whole thing here, for full context."
      ]
    },
    {
      "cell_type": "code",
      "metadata": {
        "id": "abiSn4L49J-W"
      },
      "source": [
        "def naive_witness_test(n: int, a: int, verbose: bool = False) -> bool:\n",
        "  \"\"\" A naive implementation of a witness test that simply uses one witness \n",
        "    - returns True if prime, false if not\n",
        "    - remember, they're 'strong liars', so only False is certain\n",
        "  \"\"\"\n",
        "  # check rules\n",
        "  assert n > 2 and n%2 == 1  # odd n greater than 2\n",
        "  d, m = recursive_coeffecient_calculation(n_minus_1=n - 1)\n",
        "  if verbose:\n",
        "    print(d, m)\n",
        "\n",
        "  # check accuracy of rearrangement\n",
        "  # this sort of thing would go in a test file if packaged\n",
        "  assert n == (2 ** m) * d + 1, f\"fails fundamental equality, {n} != {(2 ** m) * d + 1}, m: {m}, d: {d}, witness or a: {a}\"  \n",
        "  assert a <= n - 2, f\"failed check: {a} <= {n}-2 - witness number, a, must be less than the number under inspection, n\"\n",
        "  ask_witness = (a**d)%n\n",
        "  if verbose:\n",
        "    print(f\"starting witness check: {ask_witness}\")\n",
        "  \n",
        "  # basic case\n",
        "  if ask_witness == 1 or ask_witness == n - 1:\n",
        "      return True\n",
        "  \n",
        "  # higher exponent case (denoted as r for 1 < r < m)\n",
        "  ask_witness_generator = ((a**((2**new_exponent)*d))%n for new_exponent in range(1, m))  # generate other witnesses for larger m\n",
        "  for ask_witness in ask_witness_generator:\n",
        "    if verbose:\n",
        "      print(ask_witness)\n",
        "    if ask_witness == n - 1:\n",
        "      return True\n",
        "  \n",
        "  return False"
      ],
      "execution_count": 57,
      "outputs": []
    },
    {
      "cell_type": "code",
      "metadata": {
        "colab": {
          "base_uri": "https://localhost:8080/"
        },
        "id": "gjJCs2pH_ixf",
        "outputId": "625e83a2-9219-4aba-cf61-7e55a9f7bd52"
      },
      "source": [
        "print(naive_witness_test(n=747, a=23))\n",
        "print(naive_witness_test(n=5, a=3))\n",
        "print(naive_witness_test(n=7, a=3))\n",
        "print(naive_witness_test(n=13, a=3))\n",
        "print(naive_witness_test(n=17, a=3))\n",
        "print(naive_witness_test(n=1729, a=3))  # expect false\n",
        "naive_witness_test(n=91, a=10)"
      ],
      "execution_count": 58,
      "outputs": [
        {
          "output_type": "stream",
          "name": "stdout",
          "text": [
            "False\n",
            "True\n",
            "True\n",
            "True\n",
            "True\n",
            "False\n"
          ]
        },
        {
          "output_type": "execute_result",
          "data": {
            "text/plain": [
              "True"
            ]
          },
          "metadata": {},
          "execution_count": 58
        }
      ]
    },
    {
      "cell_type": "code",
      "metadata": {
        "colab": {
          "base_uri": "https://localhost:8080/"
        },
        "id": "1DXysEThhWxb",
        "outputId": "6e3ff5e2-3494-49e6-8eef-8207545cfffe"
      },
      "source": [
        "3**((2**3)*1)%17"
      ],
      "execution_count": 59,
      "outputs": [
        {
          "output_type": "execute_result",
          "data": {
            "text/plain": [
              "16"
            ]
          },
          "metadata": {},
          "execution_count": 59
        }
      ]
    },
    {
      "cell_type": "markdown",
      "metadata": {
        "id": "FOHraovZBYI6"
      },
      "source": [
        "### Star Witnesses / Miller Rabin Test\n",
        "\n",
        "You can use reliable star witnesses to implement a prime checker that works for \n",
        "certain values of n"
      ]
    },
    {
      "cell_type": "code",
      "metadata": {
        "id": "by3cFeHh_pb0"
      },
      "source": [
        "from typing_extensions import Protocol  # < 3.8 Protocol lives in a different package \n",
        "\n",
        "class StarWitnessesInterface(Protocol):\n",
        "  \"\"\" An interface for interacting with defined \n",
        "      test cases for the Miller Rabin Test \n",
        "  \"\"\"\n",
        "  @property\n",
        "  def star_witnesses(self) -> tuple[int, ...]:...\n",
        "  @property\n",
        "  def upper_bound(self) -> int:...\n",
        "\n",
        "smallest_possible = (2, 3)  # works for: 1_373_653\n",
        "three_numbers = (2, 3, 5)  # works for 25_326_001\n",
        "bigger_list_of_two = (31, 73)  # 9_080_191\n",
        "squad_of_four = (2, 13, 23, 1_662_803)  # 1_122_004_669_633\n",
        "friendly_five = (2, 3, 5, 7, 11)  # 2_152_302_898_747 ...oh, look, Matt's bow\n",
        "twelve_angry_men = (2, 3, 5, 7, 11, 13, 17, 19, 23, 29, 31, 37)  # 10^23\n",
        "# 318_665_857_834_031_151_167_461  --might not go in a regular int by my reckoning"
      ],
      "execution_count": 60,
      "outputs": []
    },
    {
      "cell_type": "markdown",
      "metadata": {
        "id": "ASoGgZgZJSir"
      },
      "source": [
        "Because I want the star witness numbers to be defined in a constant datastructure and not subject to variable parameters, I've made an interface above and will now define constant classes for each of the above cases"
      ]
    },
    {
      "cell_type": "code",
      "metadata": {
        "id": "GH1t2CSqJygk"
      },
      "source": [
        "class SmallestPossible:\n",
        "  @property\n",
        "  def star_witnesses(self) -> tuple[int, ...]:\n",
        "    return (2, 3)\n",
        "  @property\n",
        "  def upper_bound(self) -> int:\n",
        "    return 1_373_653\n",
        "\n",
        "class ThreeWitnesses:\n",
        "  @property\n",
        "  def star_witnesses(self) -> tuple[int, ...]:\n",
        "    return (2, 3, 5)\n",
        "  @property\n",
        "  def upper_bound(self) -> int:\n",
        "    return 25_326_001\n",
        "\n",
        "class BiggerListOfTwo:\n",
        "  @property\n",
        "  def star_witnesses(self) -> tuple[int, ...]:\n",
        "    return bigger_list_of_two\n",
        "  @property\n",
        "  def upper_bound(self) -> int:\n",
        "    return 9_080_191\n",
        "\n",
        "class SquadOfFour:\n",
        "  @property\n",
        "  def star_witnesses(self) -> tuple[int, ...]:\n",
        "    return squad_of_four\n",
        "  @property\n",
        "  def upper_bound(self) -> int:\n",
        "    return 1_122_004_669_633\n",
        "  \n",
        "class FriendlyFive:\n",
        "  @property\n",
        "  def star_witnesses(self) -> tuple[int, ...]:\n",
        "    return friendly_five\n",
        "  @property\n",
        "  def upper_bound(self) -> int:\n",
        "    return 2_152_302_898_747\n",
        "\n",
        "class TwelveAngryMen:\n",
        "  @property\n",
        "  def star_witnesses(self) -> tuple[int, ...]:\n",
        "    return twelve_angry_men\n",
        "  @property\n",
        "  def upper_bound(self) -> int:\n",
        "    return 318_665_857_834_031_151_167_461"
      ],
      "execution_count": 61,
      "outputs": []
    },
    {
      "cell_type": "markdown",
      "metadata": {
        "id": "5PzEjKcYPAW5"
      },
      "source": [
        "Well, that was probably too much code for the problem at hand, wasn't it? Anyway, from now on, I use them as below and hopefully it's worth it (spoilers: nah)"
      ]
    },
    {
      "cell_type": "code",
      "metadata": {
        "colab": {
          "base_uri": "https://localhost:8080/"
        },
        "id": "dRuImfU_JSH8",
        "outputId": "4b274103-9e9f-470b-9fc1-ee17e6fd4a46"
      },
      "source": [
        "list_of_witness_parameters: list[StarWitnessesInterface] = [\n",
        "                                                            SmallestPossible(),\n",
        "                                                            BiggerListOfTwo(),\n",
        "                                                            ThreeWitnesses(),\n",
        "                                                            SquadOfFour(),\n",
        "                                                            FriendlyFive(),\n",
        "                                                            TwelveAngryMen()\n",
        "]\n",
        "\n",
        "[witness_group.upper_bound for witness_group in list_of_witness_parameters]"
      ],
      "execution_count": 62,
      "outputs": [
        {
          "output_type": "execute_result",
          "data": {
            "text/plain": [
              "[1373653,\n",
              " 9080191,\n",
              " 25326001,\n",
              " 1122004669633,\n",
              " 2152302898747,\n",
              " 318665857834031151167461]"
            ]
          },
          "metadata": {},
          "execution_count": 62
        }
      ]
    },
    {
      "cell_type": "markdown",
      "metadata": {
        "id": "K4aSagn0Z9VE"
      },
      "source": [
        "### We're going to need a working prime generator to run tests against quickly\n",
        "\n",
        "now, I could do that myself. But what I'm actually going to do is use stack overflow: https://stackoverflow.com/questions/567222/simple-prime-number-generator-in-python (the code segment contains its own references that I'm leaving in)"
      ]
    },
    {
      "cell_type": "code",
      "metadata": {
        "colab": {
          "base_uri": "https://localhost:8080/"
        },
        "id": "6HT8_on0aFf6",
        "outputId": "29a6b41b-71c9-47d6-bfab-3ca86ba6e80c"
      },
      "source": [
        "# Sieve of Eratosthenes\n",
        "# Code by David Eppstein, UC Irvine, 28 Feb 2002\n",
        "# http://code.activestate.com/recipes/117119/\n",
        "\n",
        "def gen_primes():\n",
        "    \"\"\" Generate an infinite sequence of prime numbers.\n",
        "    \"\"\"\n",
        "    # Maps composites to primes witnessing their compositeness.\n",
        "    # This is memory efficient, as the sieve is not \"run forward\"\n",
        "    # indefinitely, but only as long as required by the current\n",
        "    # number being tested.\n",
        "    #\n",
        "    D = {}\n",
        "    \n",
        "    # The running integer that's checked for primeness\n",
        "    q = 2\n",
        "    \n",
        "    while True:\n",
        "        if q not in D:\n",
        "            # q is a new prime.\n",
        "            # Yield it and mark its first multiple that isn't\n",
        "            # already marked in previous iterations\n",
        "            # \n",
        "            yield q\n",
        "            D[q * q] = [q]\n",
        "        else:\n",
        "            # q is composite. D[q] is the list of primes that\n",
        "            # divide it. Since we've reached q, we no longer\n",
        "            # need it in the map, but we'll mark the next \n",
        "            # multiples of its witnesses to prepare for larger\n",
        "            # numbers\n",
        "            # \n",
        "            for p in D[q]:\n",
        "                D.setdefault(p + q, []).append(p)\n",
        "            del D[q]\n",
        "        \n",
        "        q += 1\n",
        "\n",
        "primes = gen_primes()\n",
        "[next(primes) for _ in range(10)]"
      ],
      "execution_count": 63,
      "outputs": [
        {
          "output_type": "execute_result",
          "data": {
            "text/plain": [
              "[2, 3, 5, 7, 11, 13, 17, 19, 23, 29]"
            ]
          },
          "metadata": {},
          "execution_count": 63
        }
      ]
    },
    {
      "cell_type": "markdown",
      "metadata": {
        "id": "UvmLHWQra4uv"
      },
      "source": [
        "Define prime detection test"
      ]
    },
    {
      "cell_type": "code",
      "metadata": {
        "id": "0HnLcS3Ua7ob"
      },
      "source": [
        "odd_generator = lambda lower_bound, upper_bound: (x for x in range(lower_bound, upper_bound) if x % 2)  # we're gonna want an odd num generator for testing\n",
        "\n",
        "class _PrimeDetectorInterface(Protocol):\n",
        "  def prime_determination(self, \n",
        "                          n: int, \n",
        "                          witness_group: StarWitnessesInterface = SmallestPossible()\n",
        "                          ) -> bool:... \n",
        "\n",
        "def test_prime_detection(prime_checker: _PrimeDetectorInterface, test_start: int = 4, test_range: int = 100, verbose: bool = False):\n",
        "  primes_gen = gen_primes()\n",
        "  primes = [next(primes_gen) for _ in range(test_range)]\n",
        "  if verbose:\n",
        "    print(primes)\n",
        "    [print(odd_num, prime_checker.prime_determination(n=odd_num)) for odd_num in odd_generator(test_start, test_range)]\n",
        "  number_result_zipped = ((odd_num, prime_checker.prime_determination(n=odd_num)) for odd_num in odd_generator(test_start, test_range))\n",
        "  for number, result in number_result_zipped:\n",
        "    if result:\n",
        "      assert number in primes, f\"A number, {number}, was declared prime that cannot be found in test primes\"\n",
        "    elif not result:\n",
        "      assert number not in primes, f\"A number, {number},  was declared composite that can be found in test primes\"\n",
        "\n",
        "def test_individual_prime_detection(prime_checker: _PrimeDetectorInterface, n: int):\n",
        "  \"\"\" lighter weight, individual prime test \"\"\"\n",
        "  from sympy import isprime\n",
        "  print(f\"sympy solution: {isprime(n)}, submitted prime checker's solution: {prime_checker.prime_determination(n)}\")\n",
        "  assert isprime(n) == prime_checker.prime_determination(n), \"failed to match sympy implementation's prime check\"\n",
        "\n"
      ],
      "execution_count": 64,
      "outputs": []
    },
    {
      "cell_type": "code",
      "metadata": {
        "id": "VrS3s9BmPUPj"
      },
      "source": [
        "class PrimeDetector:\n",
        "  witness_groups: list[StarWitnessesInterface] = list_of_witness_parameters  # let's just borrow that from above\n",
        "\n",
        "  miller_rabin_rule: Callable[...] = lambda self, n: n > 2 and n%2 == 1\n",
        "\n",
        "  def witness_group_factory(self, n: int) -> StarWitnessesInterface:\n",
        "    \"\"\" factory for returning appropriate witness groups \"\"\"\n",
        "    for witness_group in self.witness_groups:\n",
        "      if n < witness_group.upper_bound:\n",
        "        return witness_group  \n",
        "\n",
        "  def prime_determination(self, \n",
        "                          n: int, \n",
        "                          witness_group: StarWitnessesInterface = SmallestPossible()\n",
        "                          ) -> bool:\n",
        "    assert self.miller_rabin_rule(n), f\"number must be greater than 2 and odd - number found {n}\"\n",
        "    \n",
        "    if n >= witness_group.upper_bound: # assign an appropriate, larger witness group if necessary\n",
        "      witness_group = self.witness_group_factory(n=n)\n",
        "    \n",
        "    # print([naive_witness_test(n=n, a=witness_number) for witness_number in witness_group.star_witnesses])\n",
        "    return all([naive_witness_test(n=n, a=witness_number) for witness_number in witness_group.star_witnesses])\n",
        "\n",
        "test_prime_detection(prime_checker=PrimeDetector(), test_range=10_000)"
      ],
      "execution_count": 65,
      "outputs": []
    },
    {
      "cell_type": "code",
      "metadata": {
        "id": "eUvjPw5Kbne2"
      },
      "source": [
        "from sympy import isprime\n",
        "\n",
        "class PrimeDetectorSympy:\n",
        "  \"\"\" Wraps sympy prime verification to match interface so it can plug in as an alternative checker\n",
        "      when mine gets too slow at higher ranges\n",
        "  \"\"\"\n",
        "  def prime_determination(self, \n",
        "                          n: int, \n",
        "                          witness_group: StarWitnessesInterface = SmallestPossible()\n",
        "                          ) -> bool:\n",
        "    return isprime(n)"
      ],
      "execution_count": 66,
      "outputs": []
    },
    {
      "cell_type": "markdown",
      "metadata": {
        "id": "si4N6Oie3tzn"
      },
      "source": [
        "Let's do some quick edge cases in case (read: because I did) I messed up above"
      ]
    },
    {
      "cell_type": "code",
      "metadata": {
        "colab": {
          "base_uri": "https://localhost:8080/"
        },
        "id": "5U6FDpvX3223",
        "outputId": "a360d451-838b-4805-c5e3-961a1fc6e74e"
      },
      "source": [
        "edge_cases = [1373653,\n",
        "              9080191,\n",
        "              25326001]\n",
        "              # 1122004669633,\n",
        "              # 2152302898747]\n",
        "              # 318665857834031151167461]  # the uppder bounds of each witness group\n",
        "\n",
        "# note: I'm leaving out the big bois because this runs for long enough as is - I did\n",
        "# check it exactly once, it seems to work, maybe, does crash if you run on google colab tho\n",
        "\n",
        "[test_individual_prime_detection(prime_checker=PrimeDetector(), n=test_case) for test_case in edge_cases]\n",
        "\n",
        "other_random_cases = [13, 15, 17, 19, 21]\n",
        "\n",
        "[test_individual_prime_detection(prime_checker=PrimeDetector(), n=test_case) for test_case in other_random_cases]"
      ],
      "execution_count": null,
      "outputs": [
        {
          "output_type": "stream",
          "name": "stdout",
          "text": [
            "sympy solution: False, submitted prime checker's solution: False\n",
            "sympy solution: False, submitted prime checker's solution: False\n"
          ]
        }
      ]
    },
    {
      "cell_type": "markdown",
      "metadata": {
        "id": "vXR9zqE_Gy-w"
      },
      "source": [
        "### Matt's Liar Score test\n",
        "\n",
        "As part of the video Matt challenges viewers to calculate the numbers most frequently found to lie in the Miller Rabin Test, as a sort of inverse to the star witnesses concept.\n",
        "\n",
        "Here's an implementation of that below which uses the Miller Rabin Test above to make the calculations"
      ]
    },
    {
      "cell_type": "code",
      "metadata": {
        "id": "98FfykX7D1iD"
      },
      "source": [
        "def liar_test_individual(prime_checker: _PrimeCheckerImplementation, n: int, witness: int) -> bool:\n",
        "  \"\"\" False -> Liar, True -> Truthful \"\"\"\n",
        "  return naive_witness_test(n=n, a=witness) == prime_checker.prime_determination(n=n)\n",
        "\n",
        "def liar_test(prime_checker: _PrimeCheckerImplementation, start: int=4, end: int=1000) -> dict[int, int]:\n",
        "  \"\"\" -> a map of each number to the number of \n",
        "      times it lies in the Miller Rabin Test \n",
        "  \"\"\"\n",
        "  odd_numbers= odd_generator(start, end)\n",
        "  liar_test_results: dict[int, int] = {}\n",
        "  for valid_n in odd_numbers:\n",
        "    all_valid_a = (x for x in range(2, valid_n - 1))  # generate valid numbers\n",
        "    for a in all_valid_a:\n",
        "      if not liar_test_individual(prime_checker=prime_checker, n=valid_n, witness=a):\n",
        "        if liar_test_results.get(a) is None:\n",
        "          liar_test_results[a] = 1\n",
        "        liar_test_results[a] += 1\n",
        "  \n",
        "  return liar_test_results"
      ],
      "execution_count": null,
      "outputs": []
    },
    {
      "cell_type": "code",
      "metadata": {
        "id": "eamuslenFCC_"
      },
      "source": [
        "from bokeh.plotting import figure, show\n",
        "from bokeh.io import output_notebook  # so, %matplotlib widget fails in colab??\n",
        "# anyway, this is my backup for an interactive plot\n",
        "\n",
        "# Call once to configure Bokeh to display plots inline in the notebook.\n",
        "output_notebook()"
      ],
      "execution_count": null,
      "outputs": []
    },
    {
      "cell_type": "code",
      "metadata": {
        "id": "KvNPshMbCvD5"
      },
      "source": [
        "import pandas as pd\n",
        "\n",
        "def visualise_liar_test():\n",
        "  dict_data = liar_test(prime_checker=PrimeDetector())\n",
        "  sorted_data = {k: dict_data[k] for k in sorted(dict_data)}  # sort because that's not a defaul\n",
        "  df = pd.DataFrame.from_dict(sorted_data, orient='index')\n",
        "  df.plot()\n",
        "  f = figure()\n",
        "  # add a circle renderer with a size, color, and alpha (values from bokeh docs)\n",
        "  f.circle([key for key in sorted_data.keys()], [value for value in sorted_data.values()], size=20, color=\"navy\", alpha=0.5)\n",
        "  f.line([key for key in sorted_data.keys()], [value for value in sorted_data.values()], line_width=2)\n",
        "  print(df)\n",
        "  show(f)\n",
        "\n",
        "visualise_liar_test()"
      ],
      "execution_count": null,
      "outputs": []
    },
    {
      "cell_type": "markdown",
      "metadata": {
        "id": "l40ztrEUOPJN"
      },
      "source": [
        "Let's define some visualisation interfaces before we wrap this all up in a cool bow"
      ]
    },
    {
      "cell_type": "code",
      "metadata": {
        "id": "u9MSeWPEAohQ"
      },
      "source": [
        "class _VisualisationInterface(Protocol):\n",
        "  def __call__(map_of_liars_to_count: dict[int, int], verbose: bool=False) -> None:...\n",
        "  \"\"\" defines the function that takes the sorted dict object and visualises the data \"\"\"\n",
        "\n",
        "def PandasVisualisation(map_of_liars_to_count: dict[int, int], verbose: bool=False) -> None:\n",
        "  df = pd.DataFrame.from_dict(map_of_liars_to_count, orient='index')\n",
        "  if verbose:\n",
        "    print(df)\n",
        "  df.plot()\n",
        "\n",
        "def BokehVisualisation(map_of_liars_to_count: dict[int, int], verbose: bool=False) -> None:\n",
        "  f = figure()\n",
        "  # add a circle renderer with a size, color, and alpha (values from bokeh docs)\n",
        "  f.circle([key for key in map_of_liars_to_count.keys()], [value for value in map_of_liars_to_count.values()], size=20, color=\"navy\", alpha=0.5)\n",
        "  f.line([key for key in map_of_liars_to_count.keys()], [value for value in map_of_liars_to_count.values()], line_width=2)\n",
        "  if verbose:\n",
        "    print(map_of_liars_to_count)\n",
        "  show(f)\n"
      ],
      "execution_count": null,
      "outputs": []
    },
    {
      "cell_type": "markdown",
      "metadata": {
        "id": "jMUYZe8DQNfc"
      },
      "source": [
        "Now let's build the object that runs these liar tests"
      ]
    },
    {
      "cell_type": "code",
      "metadata": {
        "id": "Lx2f_9O1QSRY"
      },
      "source": [
        "class LiarTestRunner:\n",
        "  def __init__(self, end: int=10_000):\n",
        "    self.end = end\n",
        "    unsorted_dict = liar_test(prime_checker=PrimeDetectorSympy(), end=self.end)\n",
        "    self.liar_data = {k: unsorted_dict[k] for k in sorted(unsorted_dict)}\n",
        "  \n",
        "  def visualise_liars(self, visualiser: _VisualisationInterface):\n",
        "    visualiser(map_of_liars_to_count=self.liar_data)\n",
        "\n",
        "runner = LiarTestRunner()\n",
        "runner.visualise_liars(visualiser=PandasVisualisation)"
      ],
      "execution_count": null,
      "outputs": []
    },
    {
      "cell_type": "code",
      "metadata": {
        "id": "v7ekIrhOR5V8"
      },
      "source": [
        ""
      ],
      "execution_count": null,
      "outputs": []
    }
  ]
}