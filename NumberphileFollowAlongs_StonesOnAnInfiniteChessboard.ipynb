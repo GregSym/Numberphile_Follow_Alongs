{
  "nbformat": 4,
  "nbformat_minor": 0,
  "metadata": {
    "colab": {
      "name": "NumberphileFollowAlongs_StonesOnAnInfiniteChessboard.ipynb",
      "provenance": [],
      "authorship_tag": "ABX9TyOgFnmVM4V90v8avfSiarNo",
      "include_colab_link": true
    },
    "kernelspec": {
      "name": "python3",
      "display_name": "Python 3"
    },
    "language_info": {
      "name": "python"
    }
  },
  "cells": [
    {
      "cell_type": "markdown",
      "metadata": {
        "id": "view-in-github",
        "colab_type": "text"
      },
      "source": [
        "<a href=\"https://colab.research.google.com/github/GregSym/Numberphile_Follow_Alongs/blob/spoon/NumberphileFollowAlongs_StonesOnAnInfiniteChessboard.ipynb\" target=\"_parent\"><img src=\"https://colab.research.google.com/assets/colab-badge.svg\" alt=\"Open In Colab\"/></a>"
      ]
    },
    {
      "cell_type": "markdown",
      "source": [
        "# Stones on an Infinite Chessboard\n",
        "https://www.youtube.com/watch?v=m4Uth-EaTZ8\n",
        "\n",
        "A game in which a set of starting stones of value one are placed on a theoretically infinite grid in order to generate the largest possible sequence of natural numbers by evaluating the sum of a cell in the aforementioned grid's cells.\n",
        "\n",
        "I suppose part of the challenge here is visualising that so it's not as confusing as I made it sound. The YT video is much easier to follow."
      ],
      "metadata": {
        "id": "HC0Ao0b2_2Yj"
      }
    },
    {
      "cell_type": "code",
      "execution_count": 3,
      "metadata": {
        "id": "FsM6TG5MjsU8"
      },
      "outputs": [],
      "source": [
        "from __future__ import annotations\n",
        "import collections\n",
        "import numpy as np"
      ]
    },
    {
      "cell_type": "markdown",
      "source": [
        "## Principle setup for running the game"
      ],
      "metadata": {
        "id": "1ngLwQhBZiC8"
      }
    },
    {
      "cell_type": "code",
      "source": [
        "board: collections.defaultdict[tuple[int, int], int] = collections.defaultdict(lambda: 0)"
      ],
      "metadata": {
        "id": "34f2MDN6j5YY"
      },
      "execution_count": 31,
      "outputs": []
    },
    {
      "cell_type": "code",
      "source": [
        "def setup_init_state(board: collections.defaultdict[int], init_stones=2):\n",
        "  if init_stones==2:\n",
        "    board[(0, 0)] = 1\n",
        "    board[(2, 2)] = 1\n",
        "\n",
        "adjacency = ((-1, -1), (0, -1), (1, -1), (-1, 0), (0, 0), (1, 0), (0, 1), (1, 1))\n",
        "assert len(set(adjacency)) == 8  # check for 8 unique elements because i screw these up a lot\n",
        "\n",
        "def play_game(board: collections.defaultdict[tuple[int, int], int]):\n",
        "  max_x = max(k[0] for k in board)\n",
        "  max_y = max(k[1] for k in board)\n",
        "  for x in range(max_x+1):\n",
        "    for y in range(max_y+1):\n",
        "      adj_sum = sum(board[(x+t[0], y+t[1])] for t in adjacency)\n",
        "      if adj_sum not in board.values() and adj_sum == max(board.values()) + 1 and board[(x, y)] == 0:\n",
        "        board[(x, y)] = adj_sum\n",
        "\n",
        "def board_to_data(board: collections.defaultdict[tuple[int, int], int]) -> list[list[int]]:\n",
        "  if any((x<0 or y<0) for x, y in board):\n",
        "    diagonal_shift = collections.defaultdict(lambda: 0)\n",
        "    diagonal_shift.update({(x-min(x for x,y in board), y-min(y for x,y in board)): value for (x,y), value in board.items()})\n",
        "    board = diagonal_shift\n",
        "  max_x = max(k[0] for k in board)\n",
        "  max_y = max(k[1] for k in board)\n",
        "  data = np.zeros((max_x+1, max_y+1))\n",
        "  for (x, y), value in board.items():\n",
        "    data[y, x] = value\n",
        "  return data"
      ],
      "metadata": {
        "id": "K8Pw_eNjkOeC"
      },
      "execution_count": 32,
      "outputs": []
    },
    {
      "cell_type": "code",
      "source": [
        "setup_init_state(board=board)\n",
        "play_game(board=board)\n",
        "print(board_to_data(board=board))\n",
        "play_game(board=board)\n",
        "print(board_to_data(board=board))"
      ],
      "metadata": {
        "colab": {
          "base_uri": "https://localhost:8080/"
        },
        "id": "nsT0x_dZmAj3",
        "outputId": "fde008da-a5c3-4be2-b3db-c8c0d6a2338c"
      },
      "execution_count": 33,
      "outputs": [
        {
          "output_type": "stream",
          "name": "stdout",
          "text": [
            "[[0. 0. 0. 0. 0.]\n",
            " [0. 1. 0. 0. 0.]\n",
            " [0. 0. 2. 0. 0.]\n",
            " [0. 0. 3. 1. 0.]\n",
            " [0. 0. 0. 0. 0.]]\n",
            "[[0. 0. 0. 0. 0. 0.]\n",
            " [0. 1. 0. 0. 0. 0.]\n",
            " [0. 0. 2. 0. 0. 0.]\n",
            " [0. 0. 3. 1. 0. 0.]\n",
            " [0. 0. 4. 0. 0. 0.]\n",
            " [0. 0. 0. 0. 0. 0.]]\n"
          ]
        }
      ]
    },
    {
      "cell_type": "markdown",
      "source": [
        "## Packaging some of this functionality"
      ],
      "metadata": {
        "id": "z-HUmjmraVYS"
      }
    },
    {
      "cell_type": "code",
      "source": [
        "class NumbersAndStones:\n",
        "  \"\"\" Useful namespace for containing the game and its board \"\"\"\n",
        "  def __init__(self, initial_state: int = 2):\n",
        "    self.initial_state = initial_state\n",
        "    self.paths = [set()]\n",
        "    self.setup()\n",
        "\n",
        "  def setup(self):\n",
        "    self.board: collections.defaultdict[tuple[int, int], int] = collections.defaultdict(lambda: 0)\n",
        "    self.last_state: collections.defaultdict[tuple[int, int], int] = collections.defaultdict(lambda: 0)\n",
        "    setup_init_state(board=self.board, init_stones=self.initial_state)\n",
        "    self.last_state.update(self.board)\n",
        "    self.sequence: set[int] = set()\n",
        "  \n",
        "  def play_game(self):\n",
        "    self.last_state = collections.defaultdict(lambda: 0)\n",
        "    self.last_state.update(self.board)\n",
        "    play_game(board=self.board)\n",
        "  \n",
        "  def evaluate_growth(self) -> bool:\n",
        "    \"\"\" \n",
        "    return whether or not growth stagnated (mathematically this <i>must</i> happen)\n",
        "    irrespective of init state\n",
        "    True: growth\n",
        "    False: stagnated\n",
        "    \"\"\"\n",
        "    return not sorted(v for v in self.board.values() if v != 0) == sorted(v for v in self.last_state.values() if v != 0)\n",
        "  \n",
        "  def play_sequence(self):\n",
        "    self.play_game()\n",
        "    while self.evaluate_growth():\n",
        "      self.play_game()\n",
        "      self.sequence.update({*self.board.values()})\n",
        "    self.paths[0].update({i for i,v in self.board.items() if v>1})\n",
        "  \n",
        "  @property\n",
        "  def ndarray(self):\n",
        "    return board_to_data(board=self.board)"
      ],
      "metadata": {
        "id": "ylhEw_OEp7IA"
      },
      "execution_count": 34,
      "outputs": []
    },
    {
      "cell_type": "code",
      "source": [
        "game = NumbersAndStones()\n",
        "game.play_sequence()\n",
        "print(game.ndarray)\n",
        "print(game.sequence)\n",
        "print(game.paths)"
      ],
      "metadata": {
        "colab": {
          "base_uri": "https://localhost:8080/"
        },
        "id": "l8MJWzyJU_KE",
        "outputId": "87576273-9241-45dc-adc8-fc1dc98687bd"
      },
      "execution_count": 35,
      "outputs": [
        {
          "output_type": "stream",
          "name": "stdout",
          "text": [
            "[[0. 0. 0. 0. 0. 0. 0.]\n",
            " [0. 1. 0. 0. 0. 0. 0.]\n",
            " [0. 0. 2. 0. 0. 0. 0.]\n",
            " [0. 0. 3. 1. 0. 0. 0.]\n",
            " [0. 0. 4. 0. 0. 0. 0.]\n",
            " [0. 0. 0. 0. 0. 0. 0.]\n",
            " [0. 0. 0. 0. 0. 0. 0.]]\n",
            "{0, 1, 2, 3, 4}\n",
            "[{(1, 2), (1, 3), (1, 1)}]\n"
          ]
        }
      ]
    },
    {
      "cell_type": "markdown",
      "source": [
        "## But can it look more interesting than an NDArray?"
      ],
      "metadata": {
        "id": "FI5MZovBIs9I"
      }
    },
    {
      "cell_type": "code",
      "source": [
        "import matplotlib.pyplot as plt\n",
        "import sys\n",
        "if float(f\"{sys.version_info[0]}.{sys.version_info[1]}\") < 3.8:\n",
        "  from typing_extensions import Protocol  # < 3.8 Protocol lives in a different package\n",
        "else:\n",
        "  from typing import Protocol\n",
        "\n",
        "class _VisualiserInterfaceCheckerboardCounting(Protocol):\n",
        "  \"\"\" Interface for visualisation in this notebook \"\"\"\n",
        "  def __call__(self, pattern: NumbersAndStones, verbose: bool) -> None:\n",
        "      ...\n",
        "\n",
        "def visualise_checkerboard_counting(pattern: NumbersAndStones, verbose: bool = False):\n",
        "  \"\"\" (pattern) -> visualisation of checkerboard counting game \"\"\"\n",
        "  # src: https://stackoverflow.com/questions/36668160/graphing-a-colored-grid-in-python\n",
        "  # thanccs == asker: fosho, answerer: Suever\n",
        "  # Just some example data (random)\n",
        "  data = pattern.ndarray  # change this line to control colour map\n",
        "\n",
        "  rows,cols = data.shape\n",
        "\n",
        "  plt.imshow(data[::-1,::], interpolation='nearest', \n",
        "                  extent=[0, 0+cols, 0, 0+rows],  # offset should be zero\n",
        "                  cmap='bwr')  # controls colour scheme\n",
        "  # write stone value to the heat map\n",
        "  for (y,x), stone in np.ndenumerate(data):\n",
        "    plt.text(x+.5, y+.5, str(stone), ha='center', va='center',\n",
        "            bbox=dict(boxstyle='round', facecolor='white', edgecolor='0.3'))\n",
        "  plt.axes()\n",
        "  plt.axis('scaled')\n",
        "  plt.show()\n",
        "\n",
        "# run it\n",
        "game = NumbersAndStones()\n",
        "game.play_sequence()\n",
        "visualise_checkerboard_counting(pattern=game)"
      ],
      "metadata": {
        "colab": {
          "base_uri": "https://localhost:8080/",
          "height": 306
        },
        "id": "TzNekZSrVaoN",
        "outputId": "59142b04-7b15-48c1-d31b-a727b71ee289"
      },
      "execution_count": 36,
      "outputs": [
        {
          "output_type": "stream",
          "name": "stderr",
          "text": [
            "/usr/local/lib/python3.7/dist-packages/ipykernel_launcher.py:29: MatplotlibDeprecationWarning: Adding an axes using the same arguments as a previous axes currently reuses the earlier instance.  In a future version, a new instance will always be created and returned.  Meanwhile, this warning can be suppressed, and the future behavior ensured, by passing a unique label to each axes instance.\n"
          ]
        },
        {
          "output_type": "display_data",
          "data": {
            "image/png": "[encoded data removed]",
            "text/plain": [
              "<Figure size 432x288 with 1 Axes>"
            ]
          },
          "metadata": {
            "needs_background": "light"
          }
        }
      ]
    },
    {
      "cell_type": "code",
      "source": [
        ""
      ],
      "metadata": {
        "id": "mT5WSIWjLFZX"
      },
      "execution_count": null,
      "outputs": []
    }
  ]
}