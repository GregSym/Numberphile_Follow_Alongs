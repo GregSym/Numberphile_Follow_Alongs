{
  "nbformat": 4,
  "nbformat_minor": 0,
  "metadata": {
    "colab": {
      "name": "NumberphileFollowAlongs_StonesOnAnInfiniteChessboard.ipynb",
      "provenance": [],
      "authorship_tag": "ABX9TyO6pqhSK8C+R9hR/47LJtrM",
      "include_colab_link": true
    },
    "kernelspec": {
      "name": "python3",
      "display_name": "Python 3"
    },
    "language_info": {
      "name": "python"
    }
  },
  "cells": [
    {
      "cell_type": "markdown",
      "metadata": {
        "id": "view-in-github",
        "colab_type": "text"
      },
      "source": [
        "<a href=\"https://colab.research.google.com/github/GregSym/Numberphile_Follow_Alongs/blob/spoon/NumberphileFollowAlongs_StonesOnAnInfiniteChessboard.ipynb\" target=\"_parent\"><img src=\"https://colab.research.google.com/assets/colab-badge.svg\" alt=\"Open In Colab\"/></a>"
      ]
    },
    {
      "cell_type": "markdown",
      "source": [
        "# Stones on an Infinite Chessboard\n",
        "https://www.youtube.com/watch?v=m4Uth-EaTZ8\n",
        "\n",
        "A game in which a set of starting stones of value one are placed on a theoretically infinite grid in order to generate the largest possible sequence of natural numbers by evaluating the sum of a cell in the aforementioned grid's cells.\n",
        "\n",
        "I suppose part of the challenge here is visualising that so it's not as confusing as I made it sound. The YT video is much easier to follow."
      ],
      "metadata": {
        "id": "HC0Ao0b2_2Yj"
      }
    },
    {
      "cell_type": "code",
      "execution_count": 3,
      "metadata": {
        "id": "FsM6TG5MjsU8"
      },
      "outputs": [],
      "source": [
        "from __future__ import annotations\n",
        "import collections\n",
        "import numpy as np"
      ]
    },
    {
      "cell_type": "markdown",
      "source": [
        "## Principle setup for running the game"
      ],
      "metadata": {
        "id": "1ngLwQhBZiC8"
      }
    },
    {
      "cell_type": "code",
      "source": [
        "board: collections.defaultdict[tuple[int, int], int] = collections.defaultdict(lambda: 0)"
      ],
      "metadata": {
        "id": "34f2MDN6j5YY"
      },
      "execution_count": 4,
      "outputs": []
    },
    {
      "cell_type": "code",
      "source": [
        "def setup_init_state(board: collections.defaultdict[int], init_stones=2):\n",
        "  if init_stones==2:\n",
        "    board[(0, 0)] = 1\n",
        "    board[(2, 2)] = 1\n",
        "\n",
        "adjacency = ((-1, -1), (0, -1), (1, -1), (-1, 0), (0, 0), (1, 0), (0, 1), (1, 1))\n",
        "assert len(set(adjacency)) == 8  # check for 8 unique elements because i screw these up a lot\n",
        "\n",
        "def play_game(board: collections.defaultdict[tuple[int, int], int]):\n",
        "  max_x = max(k[0] for k in board)\n",
        "  max_y = max(k[1] for k in board)\n",
        "  for x in range(max_x+1):\n",
        "    for y in range(max_y+1):\n",
        "      adj_sum = sum(board[(x+dx, y+dy)] for (dx,dy) in adjacency)\n",
        "      if adj_sum not in board.values() and adj_sum == max(board.values()) + 1 and board[(x, y)] == 0:\n",
        "        board[(x, y)] = adj_sum\n",
        "\n",
        "def board_to_data(board: collections.defaultdict[tuple[int, int], int]) -> list[list[int]]:\n",
        "  if any((x<0 or y<0) for x, y in board):\n",
        "    diagonal_shift = collections.defaultdict(lambda: 0)\n",
        "    diagonal_shift.update({(x-min(x for x,y in board), y-min(y for x,y in board)): value for (x,y), value in board.items()})\n",
        "    board = diagonal_shift\n",
        "  max_x = max(k[0] for k in board)\n",
        "  max_y = max(k[1] for k in board)\n",
        "  data = np.zeros((max_x+1, max_y+1))\n",
        "  for (x, y), value in board.items():\n",
        "    data[y, x] = value\n",
        "  return data"
      ],
      "metadata": {
        "id": "K8Pw_eNjkOeC"
      },
      "execution_count": 5,
      "outputs": []
    },
    {
      "cell_type": "code",
      "source": [
        "setup_init_state(board=board)\n",
        "play_game(board=board)\n",
        "print(board_to_data(board=board))\n",
        "play_game(board=board)\n",
        "print(board_to_data(board=board))"
      ],
      "metadata": {
        "colab": {
          "base_uri": "https://localhost:8080/"
        },
        "id": "nsT0x_dZmAj3",
        "outputId": "0cfb1348-3cb6-4075-ddf2-87ef5992cb70"
      },
      "execution_count": 6,
      "outputs": [
        {
          "output_type": "stream",
          "name": "stdout",
          "text": [
            "[[0. 0. 0. 0. 0.]\n",
            " [0. 1. 0. 0. 0.]\n",
            " [0. 0. 2. 0. 0.]\n",
            " [0. 0. 3. 1. 0.]\n",
            " [0. 0. 0. 0. 0.]]\n",
            "[[0. 0. 0. 0. 0. 0.]\n",
            " [0. 1. 0. 0. 0. 0.]\n",
            " [0. 0. 2. 0. 0. 0.]\n",
            " [0. 0. 3. 1. 0. 0.]\n",
            " [0. 0. 4. 0. 0. 0.]\n",
            " [0. 0. 0. 0. 0. 0.]]\n"
          ]
        }
      ]
    },
    {
      "cell_type": "markdown",
      "source": [
        "## Packaging some of this functionality"
      ],
      "metadata": {
        "id": "z-HUmjmraVYS"
      }
    },
    {
      "cell_type": "code",
      "source": [
        "class NumbersAndStones:\n",
        "  \"\"\" Useful namespace for containing the game and its board \"\"\"\n",
        "  def __init__(self, initial_state: int = 2):\n",
        "    self.initial_state = initial_state\n",
        "    self.paths = [set()]\n",
        "    self.one_layer_blacklist: set[tuple[int, int]] = set()\n",
        "    self.setup()\n",
        "\n",
        "  def setup(self):\n",
        "    self.board: collections.defaultdict[tuple[int, int], int] = collections.defaultdict(lambda: 0)\n",
        "    self.last_state: collections.defaultdict[tuple[int, int], int] = collections.defaultdict(lambda: 0)\n",
        "    setup_init_state(board=self.board, init_stones=self.initial_state)\n",
        "    self.last_state.update(self.board)\n",
        "    self.sequence: set[int] = set()\n",
        "  \n",
        "  def play_game(self):\n",
        "    self.last_state = collections.defaultdict(lambda: 0)\n",
        "    self.last_state.update(self.board)\n",
        "    max_x = max(x for (x,y) in self.board)\n",
        "    max_y = max(y for (x,y) in self.board)\n",
        "    for x in range(max_x+1):\n",
        "      for y in range(max_y+1):\n",
        "        adj_sum = sum(self.board[(x+dx, y+dy)] for (dx,dy) in adjacency)\n",
        "        if (\n",
        "            adj_sum not in self.board.values() \n",
        "            and adj_sum == max(self.board.values()) + 1 \n",
        "            and self.board[(x, y)] == 0 and all(((x,y) != b) for b in self.one_layer_blacklist)\n",
        "            ):\n",
        "          print(adj_sum)\n",
        "          self.board[(x, y)] = adj_sum\n",
        "  \n",
        "  def evaluate_growth(self) -> bool:\n",
        "    \"\"\" \n",
        "    return whether or not growth stagnated (mathematically this <i>must</i> happen)\n",
        "    irrespective of init state\n",
        "    True: growth\n",
        "    False: stagnated\n",
        "    \"\"\"\n",
        "    return not self.sequence == set({*self.last_state.values()})\n",
        "  \n",
        "  def play_sequence(self):\n",
        "    self.play_game()\n",
        "    while self.evaluate_growth():\n",
        "      self.one_layer_blacklist = set()  # reset\n",
        "      self.play_game()\n",
        "      self.sequence.update({*self.board.values()})\n",
        "    \n",
        "    failed_placement, = [indeces for indeces, v in self.board.items() if v==max(self.board.values())]\n",
        "    self.one_layer_blacklist.add(failed_placement)\n",
        "    print(self.one_layer_blacklist)\n",
        "    self.board.pop(failed_placement)\n",
        "    if max(self.sequence) < 6:\n",
        "      self.play_sequence()\n",
        "    self.paths[0].update({i for i,v in self.board.items() if v>1})\n",
        "  \n",
        "  @property\n",
        "  def ndarray(self):\n",
        "    return board_to_data(board=self.board)"
      ],
      "metadata": {
        "id": "ylhEw_OEp7IA"
      },
      "execution_count": 51,
      "outputs": []
    },
    {
      "cell_type": "code",
      "source": [
        "game = NumbersAndStones()\n",
        "game.play_sequence()\n",
        "print(game.ndarray)\n",
        "print(game.sequence)\n",
        "print(game.paths)"
      ],
      "metadata": {
        "colab": {
          "base_uri": "https://localhost:8080/"
        },
        "id": "l8MJWzyJU_KE",
        "outputId": "c08ec303-ab6f-406f-cb25-d4f79c2dd6fd"
      },
      "execution_count": 52,
      "outputs": [
        {
          "output_type": "stream",
          "name": "stdout",
          "text": [
            "2\n",
            "3\n",
            "4\n",
            "{(1, 3)}\n",
            "4\n",
            "5\n",
            "6\n",
            "{(0, 1)}\n",
            "[[0. 0. 0. 0. 0. 0. 0. 0. 0. 0.]\n",
            " [0. 1. 0. 0. 0. 0. 0. 0. 0. 0.]\n",
            " [0. 0. 2. 0. 0. 0. 0. 0. 0. 0.]\n",
            " [0. 0. 3. 1. 0. 0. 0. 0. 0. 0.]\n",
            " [0. 0. 0. 4. 5. 0. 0. 0. 0. 0.]\n",
            " [0. 0. 0. 0. 0. 0. 0. 0. 0. 0.]\n",
            " [0. 0. 0. 0. 0. 0. 0. 0. 0. 0.]\n",
            " [0. 0. 0. 0. 0. 0. 0. 0. 0. 0.]\n",
            " [0. 0. 0. 0. 0. 0. 0. 0. 0. 0.]\n",
            " [0. 0. 0. 0. 0. 0. 0. 0. 0. 0.]]\n",
            "{0, 1, 2, 3, 4, 5, 6}\n",
            "[{(1, 2), (3, 3), (2, 3), (1, 1)}]\n"
          ]
        }
      ]
    },
    {
      "cell_type": "markdown",
      "source": [
        "## Should probably test some fundamentals"
      ],
      "metadata": {
        "id": "4aZSoDfuEZDK"
      }
    },
    {
      "cell_type": "code",
      "source": [
        "def test_natural_numbers(pattern: NumbersAndStones):\n",
        "  for el, next_el in zip(pattern.sequence, list(pattern.sequence)[1:]):\n",
        "    assert el + 1 == next_el\n",
        "\n",
        "test_natural_numbers(game)"
      ],
      "metadata": {
        "id": "BVt4264KEd03"
      },
      "execution_count": 53,
      "outputs": []
    },
    {
      "cell_type": "markdown",
      "source": [
        "## But can it look more interesting than an NDArray?"
      ],
      "metadata": {
        "id": "FI5MZovBIs9I"
      }
    },
    {
      "cell_type": "code",
      "source": [
        "import matplotlib.pyplot as plt\n",
        "import sys\n",
        "if float(f\"{sys.version_info[0]}.{sys.version_info[1]}\") < 3.8:\n",
        "  from typing_extensions import Protocol  # < 3.8 Protocol lives in a different package\n",
        "else:\n",
        "  from typing import Protocol\n",
        "\n",
        "class _VisualiserInterfaceCheckerboardCounting(Protocol):\n",
        "  \"\"\" Interface for visualisation in this notebook \"\"\"\n",
        "  def __call__(self, pattern: NumbersAndStones, verbose: bool) -> None:\n",
        "      ...\n",
        "\n",
        "def visualise_checkerboard_counting(pattern: NumbersAndStones, verbose: bool = False):\n",
        "  \"\"\" (pattern) -> visualisation of checkerboard counting game \"\"\"\n",
        "  # src: https://stackoverflow.com/questions/36668160/graphing-a-colored-grid-in-python\n",
        "  # thanccs == asker: fosho, answerer: Suever\n",
        "  # Just some example data (random)\n",
        "  data = pattern.ndarray  # change this line to control colour map\n",
        "\n",
        "  rows,cols = data.shape\n",
        "  plt.imshow(data[::-1,::], interpolation='nearest', \n",
        "                  extent=[0, 0+cols, 0, 0+rows],  # offset should be zero\n",
        "                  cmap='bwr')  # controls colour scheme\n",
        "  # write stone value to the heat map\n",
        "  for (y,x), stone in np.ndenumerate(data):\n",
        "    plt.text(x+.5, y+.5, str(stone), ha='center', va='center',\n",
        "            bbox=dict(boxstyle='round', facecolor='white', edgecolor='0.3'))\n",
        "  # plt.axes()\n",
        "  plt.axis('scaled')\n",
        "  plt.show()\n",
        "\n",
        "# run it\n",
        "game = NumbersAndStones()\n",
        "game.play_sequence()\n",
        "visualise_checkerboard_counting(pattern=game)"
      ],
      "metadata": {
        "colab": {
          "base_uri": "https://localhost:8080/",
          "height": 408
        },
        "id": "TzNekZSrVaoN",
        "outputId": "c2ba2dc8-2974-4e4d-eed6-4a55e1dd63fa"
      },
      "execution_count": 54,
      "outputs": [
        {
          "output_type": "stream",
          "name": "stdout",
          "text": [
            "2\n",
            "3\n",
            "4\n",
            "{(1, 3)}\n",
            "4\n",
            "5\n",
            "6\n",
            "{(0, 1)}\n"
          ]
        },
        {
          "output_type": "display_data",
          "data": {
            "image/png": "[encoded data removed]",
            "text/plain": [
              "<Figure size 432x288 with 1 Axes>"
            ]
          },
          "metadata": {
            "needs_background": "light"
          }
        }
      ]
    },
    {
      "cell_type": "code",
      "source": [
        ""
      ],
      "metadata": {
        "id": "mT5WSIWjLFZX"
      },
      "execution_count": 8,
      "outputs": []
    }
  ]
}