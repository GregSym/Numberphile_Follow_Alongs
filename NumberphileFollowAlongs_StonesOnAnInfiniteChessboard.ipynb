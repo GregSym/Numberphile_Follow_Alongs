{
  "cells": [
    {
      "cell_type": "markdown",
      "metadata": {
        "id": "view-in-github",
        "colab_type": "text"
      },
      "source": [
        "<a href=\"https://colab.research.google.com/github/GregSym/Numberphile_Follow_Alongs/blob/spoon/NumberphileFollowAlongs_StonesOnAnInfiniteChessboard.ipynb\" target=\"_parent\"><img src=\"https://colab.research.google.com/assets/colab-badge.svg\" alt=\"Open In Colab\"/></a>"
      ]
    },
    {
      "cell_type": "markdown",
      "metadata": {
        "id": "HC0Ao0b2_2Yj"
      },
      "source": [
        "# Stones on an Infinite Chessboard\n",
        "https://www.youtube.com/watch?v=m4Uth-EaTZ8\n",
        "\n",
        "A game in which a set of starting stones of value one are placed on a theoretically infinite grid in order to generate the largest possible sequence of natural numbers by evaluating the sum of a cell in the aforementioned grid's cells.\n",
        "\n",
        "I suppose part of the challenge here is visualising that so it's not as confusing as I made it sound. The YT video is much easier to follow."
      ]
    },
    {
      "cell_type": "code",
      "execution_count": null,
      "metadata": {
        "id": "FsM6TG5MjsU8"
      },
      "outputs": [],
      "source": [
        "from __future__ import annotations\n",
        "import collections\n",
        "import numpy as np"
      ]
    },
    {
      "cell_type": "markdown",
      "metadata": {
        "id": "1ngLwQhBZiC8"
      },
      "source": [
        "## Principle setup for running the game"
      ]
    },
    {
      "cell_type": "code",
      "execution_count": null,
      "metadata": {
        "id": "34f2MDN6j5YY"
      },
      "outputs": [],
      "source": [
        "board: collections.defaultdict[tuple[int, int], int] = collections.defaultdict(lambda: 0)"
      ]
    },
    {
      "cell_type": "code",
      "execution_count": null,
      "metadata": {
        "id": "K8Pw_eNjkOeC"
      },
      "outputs": [],
      "source": [
        "def setup_init_state(board: collections.defaultdict[int], init_stones=2):\n",
        "  if init_stones==2:\n",
        "    board[(0, 0)] = 1\n",
        "    board[(2, 2)] = 1\n",
        "\n",
        "adjacency = ((-1, -1), (0, -1), (1, -1), (-1, 0), (-1, 1), (1, 0), (0, 1), (1, 1))\n",
        "assert len(set(adjacency)) == 8  # check for 8 unique elements because i screw these up a lot\n",
        "\n",
        "def play_game(board: collections.defaultdict[tuple[int, int], int]):\n",
        "  max_x = max(k[0] for k in board)\n",
        "  max_y = max(k[1] for k in board)\n",
        "  for x in range(max_x+1):\n",
        "    for y in range(max_y+1):\n",
        "      adj_sum = sum(board[(x+dx, y+dy)] for (dx,dy) in adjacency)\n",
        "      if adj_sum not in board.values() and adj_sum == max(board.values()) + 1 and board[(x, y)] == 0:\n",
        "        board[(x, y)] = adj_sum\n",
        "\n",
        "def board_to_data(board: collections.defaultdict[tuple[int, int], int]) -> list[list[int]]:\n",
        "  if any((x<0 or y<0) for x, y in board):\n",
        "    diagonal_shift = collections.defaultdict(lambda: 0)\n",
        "    diagonal_shift.update({(x-min(x for x,y in board), y-min(y for x,y in board)): value for (x,y), value in board.items()})\n",
        "    board = diagonal_shift\n",
        "  max_x = max(x for (x,y) in board)\n",
        "  max_y = max(y for (x,y) in board)\n",
        "  data = np.zeros((max_x+1+1, max_y+1+1))\n",
        "  for (x, y), value in board.items():\n",
        "    data[y, x] = value\n",
        "  return data"
      ]
    },
    {
      "cell_type": "code",
      "execution_count": null,
      "metadata": {
        "colab": {
          "base_uri": "https://localhost:8080/"
        },
        "id": "nsT0x_dZmAj3",
        "outputId": "11038908-fb9e-47f6-c2bd-1f86146cf34c"
      },
      "outputs": [
        {
          "name": "stdout",
          "output_type": "stream",
          "text": [
            "[[0. 0. 0. 0. 0. 0.]\n",
            " [0. 1. 0. 0. 0. 0.]\n",
            " [0. 0. 2. 0. 0. 0.]\n",
            " [0. 0. 3. 1. 0. 0.]\n",
            " [0. 0. 0. 0. 0. 0.]\n",
            " [0. 0. 0. 0. 0. 0.]]\n",
            "[[0. 0. 0. 0. 0. 0. 0.]\n",
            " [0. 1. 0. 0. 0. 0. 0.]\n",
            " [0. 0. 2. 0. 0. 0. 0.]\n",
            " [0. 0. 3. 1. 0. 0. 0.]\n",
            " [0. 0. 4. 0. 0. 0. 0.]\n",
            " [0. 0. 0. 0. 0. 0. 0.]\n",
            " [0. 0. 0. 0. 0. 0. 0.]]\n"
          ]
        }
      ],
      "source": [
        "setup_init_state(board=board)\n",
        "play_game(board=board)\n",
        "print(board_to_data(board=board))\n",
        "play_game(board=board)\n",
        "print(board_to_data(board=board))"
      ]
    },
    {
      "cell_type": "markdown",
      "metadata": {
        "id": "z-HUmjmraVYS"
      },
      "source": [
        "## Packaging some of this functionality"
      ]
    },
    {
      "cell_type": "code",
      "execution_count": null,
      "metadata": {
        "id": "ylhEw_OEp7IA"
      },
      "outputs": [],
      "source": [
        "from typing import Counter\n",
        "\n",
        "class NumbersAndStones:\n",
        "  \"\"\" Useful namespace for containing the game and its board \"\"\"\n",
        "  def __init__(self, initial_state: int = 2):\n",
        "    self.initial_state = initial_state\n",
        "    self.paths = [set()]\n",
        "    self.blacklist: Counter[Stone] = collections.Counter()\n",
        "    self.recurrances: Counter[str] = collections.Counter()\n",
        "    self.setup()\n",
        "\n",
        "  def setup(self):\n",
        "    self.board: collections.defaultdict[tuple[int, int], int] = collections.defaultdict(lambda: 0)\n",
        "    self.last_state: collections.defaultdict[tuple[int, int], int] = collections.defaultdict(lambda: 0)\n",
        "    setup_init_state(board=self.board, init_stones=self.initial_state)\n",
        "    self.last_state.update(self.board)\n",
        "    self.sequence: set[int] = set()\n",
        "  \n",
        "  def play_game(self):\n",
        "    self.last_state = collections.defaultdict(lambda: 0)\n",
        "    self.last_state.update(self.board)\n",
        "    valid_x = [x for (x,y) in self.board if self.board[x,y] > 0]\n",
        "    valid_y = [y for (x,y) in self.board if self.board[x,y] > 0]\n",
        "    min_x = min(valid_x)\n",
        "    min_y = min(valid_y)\n",
        "    max_x = max(valid_x)\n",
        "    max_y = max(valid_y)\n",
        "    for x in range(min_x-1, max_x+1):\n",
        "      for y in range(min_y-1, max_y+1):\n",
        "        adj_sum = sum(self.board[(x+dx, y+dy)] for (dx,dy) in adjacency)\n",
        "        if (\n",
        "            adj_sum not in self.board.values()\n",
        "            and adj_sum == max(self.board.values()) + 1 \n",
        "            and self.board[(x, y)] == 0\n",
        "            and ((x,y), adj_sum) not in self.blacklist\n",
        "            ):\n",
        "          print(adj_sum)\n",
        "          self.board[(x, y)] = adj_sum\n",
        "          continue\n",
        "  \n",
        "  def evaluate_growth(self) -> bool:\n",
        "    \"\"\" \n",
        "    return whether or not growth stagnated (mathematically this <i>must</i> happen)\n",
        "    irrespective of init state\n",
        "    True: growth\n",
        "    False: stagnated\n",
        "    \"\"\"\n",
        "    return not self.sequence == set({*self.last_state.values()})\n",
        "  \n",
        "  def play_sequence(self):\n",
        "    self.sequence = set()\n",
        "    self.play_game()\n",
        "    while self.evaluate_growth():\n",
        "      self.play_game()\n",
        "      self.sequence.update({*self.board.values()})\n",
        "    if max(self.board.values()) > 3:\n",
        "      failed_placement, = [(indeces, v) for indeces, v in self.board.items() if v==max(self.board.values())]\n",
        "    else:\n",
        "      failed_placement = Stone((0,0), 0)\n",
        "    self.blacklist[Stone(*failed_placement)] += 1\n",
        "    for i in range(self.blacklist[Stone(*failed_placement)]):\n",
        "      new_board = {k: v if v < max(*self.board.values()) or v==1 else 0 for k,v in self.board.items()}\n",
        "      # more_badlist = [Stone(indeces, v) for indeces, v in self.board.items() if v not in new_board.values() and v>3]\n",
        "      # self.blacklist.update({*more_badlist})\n",
        "      self.board.update(new_board)\n",
        "    print(self.blacklist)\n",
        "    if max(self.sequence) < 9:\n",
        "      self.recurrances['re'] += 1\n",
        "      # print(self.recurrances)\n",
        "      self.play_sequence()\n",
        "    self.paths[0].update({i for i,v in self.board.items() if v>1})\n",
        "  \n",
        "  @property\n",
        "  def ndarray(self):\n",
        "    return board_to_data(board=self.board)"
      ]
    },
    {
      "cell_type": "markdown",
      "metadata": {
        "id": "lmqgLL6Me4aH"
      },
      "source": [
        "### Abstracting the 'Stone'\n",
        "We're going to want to keep track of some of these, and an easily identifiable object is probably called for\n",
        "\n",
        "(While making Stone I figured I'd just make a tree too, because those are always so fun!)"
      ]
    },
    {
      "cell_type": "code",
      "execution_count": null,
      "metadata": {
        "id": "RRKP4OzXFrqp"
      },
      "outputs": [],
      "source": [
        "from typing import Callable\n",
        "import functools\n",
        "\n",
        "@functools.lru_cache(maxsize=1024)\n",
        "def neighbour_gen(x,y) -> list[tuple[int, int]]:\n",
        "  _neighbour_gen: Callable[[int, int], list[tuple[int, int]]] = lambda x, y: [(x+dx, y+dy) for (dx,dy) in adjacency]\n",
        "  return _neighbour_gen(x,y)\n",
        "\n",
        "@functools.lru_cache(maxsize=1024)\n",
        "def cached_sum(*_arraylike) -> int:\n",
        "  return sum(*_arraylike)"
      ]
    },
    {
      "cell_type": "code",
      "execution_count": null,
      "metadata": {
        "id": "nBF2U__0Wu1M"
      },
      "outputs": [],
      "source": [
        "from typing import NamedTuple, Generator, Union\n",
        "\n",
        "class Stone(NamedTuple):\n",
        "  index: tuple[int, int]\n",
        "  value: int\n",
        "\n",
        "  def __eq__(self, other) -> bool:\n",
        "    \"\"\" ensure nested equality of the tuple \"\"\"\n",
        "    if isinstance(other, Stone):\n",
        "      return (other.index == self.index) and (other.value == self.value)\n",
        "    if isinstance(other, tuple):\n",
        "      return (other[0] == self.index) and (other[1] == self.value)\n",
        "    return False\n",
        "\n",
        "class Node(NamedTuple):\n",
        "  \"\"\" repr for a point in the PossibilityTree \"\"\"\n",
        "  stone: Stone\n",
        "  parent: Union[Node, None]\n",
        "  children: list[Node]\n",
        "\n",
        "class PossibilityTree(NamedTuple):\n",
        "  root: Node\n",
        "  init_board: collections.defaultdict[tuple[int, int], int]\n",
        "\n",
        "  def _get_parent_chain(self, node: Node) -> Generator[Node, None, None]:\n",
        "    yield node\n",
        "    if node == self.root:\n",
        "      return\n",
        "    for upstream in self._get_parent_chain(node=node.parent):  # this will fail after 999\n",
        "      yield upstream\n",
        "\n",
        "  @property\n",
        "  def nodes(self) -> Generator[Node, None, None]:\n",
        "    def ret_children(node: Node) -> Generator[Node, None, None]:\n",
        "      yield node\n",
        "      for node in node.children:\n",
        "        for nested in ret_children(node):\n",
        "          yield nested\n",
        "    for nested in ret_children(self.root):\n",
        "      yield nested\n",
        "\n",
        "  def add_node(self, node: Node):\n",
        "    for n in self.nodes:\n",
        "      if n.stone == node.parent:\n",
        "        n.children.append(node)\n",
        "  \n",
        "  @property\n",
        "  def layers(self) -> collections.defaultdict[int, list[Node]]:\n",
        "    \"\"\" () -> dict[number of layer, all Stones in a layer of the tree] \"\"\"\n",
        "    _layers: collections.defaultdict[int, list[Node]] = collections.defaultdict(lambda: list())\n",
        "    for node in self.nodes:\n",
        "      _layers[node.stone.value].append(node)\n",
        "    return _layers\n",
        "  \n",
        "  @property\n",
        "  def max_layer(self) -> set[Node]:\n",
        "    _layers = self.layers  # don't run twice / pre-calc here\n",
        "    return _layers[max(_layers)]\n",
        "  \n",
        "  def board_from_node(self, node: Node, low_memory=False) -> collections.defaultdict[tuple[int, int], int]:\n",
        "    _board = collections.defaultdict(lambda: 0)\n",
        "    _board.update(self.init_board)\n",
        "    _board.update({(x,y): value for ((x,y), value), parent, children in self.sequence_at_node(node=node)})\n",
        "    return _board\n",
        "\n",
        "  @property\n",
        "  def longest_board(self) -> collections.defaultdict[tuple[int, int], int]:\n",
        "    return self.board_from_node(node=self.longest_node)\n",
        "\n",
        "  def new_layer(self):\n",
        "    \"\"\" compute and append a new layer to the highest layer \"\"\"\n",
        "    new_layer_value = max(self.layers) + 1\n",
        "    print(new_layer_value)\n",
        "    for node in self.max_layer:\n",
        "      current_board = self.board_from_node(node)\n",
        "      for (x, y), num in current_board.items():\n",
        "        for nx, ny in neighbour_gen(x,y):\n",
        "          if current_board.get((nx, ny), 0) != 0:\n",
        "            continue\n",
        "          adj_sum = cached_sum(current_board.get((nx+dx, ny+dy), 0) for (dx,dy) in adjacency)\n",
        "          if adj_sum == new_layer_value:\n",
        "            node.children.append(\n",
        "                Node(stone=Stone(index=(nx,ny), value=new_layer_value), parent=node, children=[]))\n",
        "\n",
        "  @property\n",
        "  def longest_node(self) -> Node:\n",
        "    \"\"\" returns an arbitrary node in the maximum number layer \"\"\"\n",
        "    return self.max_layer.pop()\n",
        "  \n",
        "  def sequence_at_node(self, node: Node) -> Generator[Node, None, None]:\n",
        "    for _node in self._get_parent_chain(node):\n",
        "      yield _node\n",
        "  \n",
        "  @property\n",
        "  def longest_sequence(self) -> Generator[Node, None, None]:\n",
        "    for node in self.sequence_at_node(self.longest_node):\n",
        "      yield node\n",
        "\n",
        "  @property\n",
        "  def branch_points(self) -> Generator[Node, None, None]:\n",
        "    for node in self.nodes:\n",
        "      if len(node.children) > 1:\n",
        "        yield node"
      ]
    },
    {
      "cell_type": "markdown",
      "metadata": {
        "id": "qfBYwOT-Qqbv"
      },
      "source": [
        "## Abstract class for visualisation integration"
      ]
    },
    {
      "cell_type": "code",
      "execution_count": null,
      "metadata": {
        "id": "ZEzJ7CKESFKU"
      },
      "outputs": [],
      "source": [
        "import sys\n",
        "if float(f\"{sys.version_info[0]}.{sys.version_info[1]}\") < 3.8:\n",
        "  from typing_extensions import Protocol  # < 3.8 Protocol lives in a different package\n",
        "else:\n",
        "  from typing import Protocol\n",
        "\n",
        "class _GrowableNumberPattern(Protocol):\n",
        "  @property\n",
        "  def board(self) -> dict[tuple[int,int], int]:...\n",
        "  @property\n",
        "  def sequence(self) -> set[int]:...\n",
        "  @property\n",
        "  def ndarray(self):..."
      ]
    },
    {
      "cell_type": "code",
      "execution_count": null,
      "metadata": {
        "id": "yIhaP8QNQy30"
      },
      "outputs": [],
      "source": [
        "from abc import ABC, abstractmethod\n",
        "\n",
        "class NumbersAndStonesABC(ABC):\n",
        "  \"\"\" Parent ABC that cheats by containing some useful visualisation stuff that\n",
        "      could clutter up the solver\n",
        "  \"\"\"\n",
        "  @abstractmethod\n",
        "  def play_sequence(self):\n",
        "    \"\"\" Play out all possible sequences for an initial state defined before calling \"\"\"\n",
        "  \n",
        "  @property\n",
        "  def ndarray(self):\n",
        "    return board_to_data(board=self.board)"
      ]
    },
    {
      "cell_type": "code",
      "execution_count": null,
      "metadata": {
        "id": "60iFunjw_bIz"
      },
      "outputs": [],
      "source": [
        "class NumbersAndStones(NumbersAndStonesABC):\n",
        "  \"\"\" Useful namespace for containing the game and its board \"\"\"\n",
        "  def __init__(self, initial_state: int = 2):\n",
        "    self.initial_state = initial_state\n",
        "    self.board: collections.defaultdict[tuple[int, int], int] = collections.defaultdict(lambda: 0)\n",
        "    setup_init_state(board=self.board, init_stones=self.initial_state)\n",
        "    root = Stone(*[stone for stone in self.board.items()][0])\n",
        "    self.sequence = []\n",
        "    self.tree: PossibilityTree = PossibilityTree(\n",
        "        Node(stone=root, parent=None, children=[]), self.board)\n",
        "  \n",
        "  def play_sequence(self):\n",
        "    while True:\n",
        "      # store current layer\n",
        "      layer_value = self.tree.longest_node.stone.value\n",
        "      # get a new layer\n",
        "      self.tree.new_layer()\n",
        "      # find new layer\n",
        "      new_value = self.tree.longest_node.stone.value\n",
        "      # test for growth\n",
        "      if new_value == layer_value:\n",
        "        self.board = self.tree.longest_board\n",
        "        break\n",
        "    self.sequence = [*self.board.values()]\n",
        "    print(self.board)"
      ]
    },
    {
      "cell_type": "code",
      "execution_count": null,
      "metadata": {
        "colab": {
          "background_save": true,
          "base_uri": "https://localhost:8080/"
        },
        "id": "l8MJWzyJU_KE",
        "outputId": "c62b2548-c45b-4cac-d451-54292f8e78c8"
      },
      "outputs": [
        {
          "name": "stdout",
          "output_type": "stream",
          "text": [
            "Cold run...\n",
            "2\n",
            "3\n",
            "4\n",
            "5\n",
            "6\n",
            "7\n",
            "8\n",
            "9\n",
            "10\n",
            "11\n",
            "12\n",
            "13\n",
            "14\n",
            "15\n",
            "16\n",
            "17\n",
            "defaultdict(<function PossibilityTree.board_from_node.<locals>.<lambda> at 0x7fe10e1a9440>, {(0, 0): 1, (2, 2): 1, (-1, -1): 16, (0, -1): 15, (1, -1): 14, (2, 0): 13, (1, 4): 12, (3, 1): 11, (3, 2): 10, (3, 4): 9, (1, 3): 8, (-1, 1): 7, (0, 1): 6, (3, 3): 5, (2, 3): 4, (1, 2): 3, (1, 1): 2})\n",
            "[[16. 15. 14.  0.  0.  0.  0.]\n",
            " [ 0.  1.  0. 13.  0.  0.  0.]\n",
            " [ 7.  6.  2.  0. 11.  0.  0.]\n",
            " [ 0.  0.  3.  1. 10.  0.  0.]\n",
            " [ 0.  0.  8.  4.  5.  0.  0.]\n",
            " [ 0.  0. 12.  0.  9.  0.  0.]]\n",
            "[1, 1, 16, 15, 14, 13, 12, 11, 10, 9, 8, 7, 6, 5, 4, 3, 2]\n",
            "[[16. 15. 14.  0.  0.  0.  0.]\n",
            " [ 0.  1.  0. 13.  0.  0.  0.]\n",
            " [ 7.  6.  2.  0. 11.  0.  0.]\n",
            " [ 0.  0.  3.  1. 10.  0.  0.]\n",
            " [ 0.  0.  8.  4.  5.  0.  0.]\n",
            " [ 0.  0. 12.  0.  9.  0.  0.]]\n",
            "[1, 1, 16, 15, 14, 13, 12, 11, 10, 9, 8, 7, 6, 5, 4, 3, 2]\n"
          ]
        }
      ],
      "source": [
        "from typing import Any\n",
        "\n",
        "class ComputedGame(NamedTuple):\n",
        "  \"\"\"\n",
        "  Contains only the data of a game,\n",
        "  fulfills interface/Protocol but doesn't inherit from ABC version.\n",
        "  Primarily for caching the game, may have mocking applications\n",
        "  \"\"\"\n",
        "  initial_state: int\n",
        "  board: collections.defaultdict[tuple[int,int], int]\n",
        "  tree: PossibilityTree\n",
        "  sequence: list[int]\n",
        "  ndarray: Any  # npt.NDArray[np.int64] (note: numpy.typing=npt, numpy=np)\n",
        "\n",
        "  def play_sequence(self):...\n",
        "\n",
        "@functools.lru_cache(maxsize=None)\n",
        "def cache_tree_computation() -> ComputedGame:\n",
        "  print(\"Cold run...\")\n",
        "  game = NumbersAndStones()\n",
        "  game.play_sequence()\n",
        "  print(game.ndarray)\n",
        "  print(game.sequence)\n",
        "  return ComputedGame(initial_state=game.initial_state, \n",
        "                      board=game.board, \n",
        "                      tree=game.tree,\n",
        "                      sequence=game.sequence, \n",
        "                      ndarray=game.ndarray)\n",
        "\n",
        "game = cache_tree_computation()\n",
        "print(game.ndarray)\n",
        "print(game.sequence)"
      ]
    },
    {
      "cell_type": "markdown",
      "metadata": {
        "id": "4aZSoDfuEZDK"
      },
      "source": [
        "## Should probably test some fundamentals"
      ]
    },
    {
      "cell_type": "code",
      "execution_count": null,
      "metadata": {
        "colab": {
          "background_save": true
        },
        "id": "BVt4264KEd03"
      },
      "outputs": [],
      "source": [
        "def test_natural_numbers(pattern: _GrowableNumberPattern):\n",
        "  for el, next_el in zip(sorted(set(pattern.sequence)), list(sorted(set(pattern.sequence)))[1:]):\n",
        "    assert el + 1 == next_el, f\"sequence break @ {el} - {next_el}\"\n",
        "\n",
        "def test_largest_eq_sum(pattern: _GrowableNumberPattern):\n",
        "  ((x,y), max_v), = [((x,y),max_v) for (x,y),max_v in pattern.board.items() if max_v==max(pattern.board.values())]\n",
        "  assert sum(pattern.board[(x+dx, y+dy)] for (dx,dy) in adjacency) == max_v, f\"{sum(pattern.board[(x+dx, y+dy)] for (dx,dy) in adjacency)} not equal to {max_v},\\n board:\\n {pattern.ndarray}\"\n",
        "  if max_v > 2:\n",
        "    pattern.board.pop((x,y))\n",
        "    test_largest_eq_sum(pattern=pattern)\n",
        "  return\n",
        "      \n",
        "game = cache_tree_computation()\n",
        "game.play_sequence()\n",
        "test_natural_numbers(game)\n",
        "test_largest_eq_sum(game)"
      ]
    },
    {
      "cell_type": "markdown",
      "metadata": {
        "id": "FI5MZovBIs9I"
      },
      "source": [
        "## But can it look more interesting than an NDArray?"
      ]
    },
    {
      "cell_type": "code",
      "execution_count": null,
      "metadata": {
        "colab": {
          "background_save": true
        },
        "id": "TzNekZSrVaoN",
        "outputId": "077030dd-646e-4e90-83b4-85d48477bd00"
      },
      "outputs": [
        {
          "data": {
            "image/png": "[encoded data removed]",
            "text/plain": [
              "<Figure size 432x288 with 1 Axes>"
            ]
          },
          "metadata": {},
          "output_type": "display_data"
        }
      ],
      "source": [
        "import matplotlib.pyplot as plt\n",
        "import sys\n",
        "\n",
        "class _VisualiserInterfaceCheckerboardCounting(Protocol):\n",
        "  \"\"\" Interface for visualisation in this notebook \"\"\"\n",
        "  def __call__(self, pattern: _GrowableNumberPattern, verbose: bool) -> None:\n",
        "      ...\n",
        "\n",
        "def visualise_checkerboard_counting(pattern: _GrowableNumberPattern, verbose: bool = False):\n",
        "  \"\"\" (pattern) -> visualisation of checkerboard counting game \"\"\"\n",
        "  # src: https://stackoverflow.com/questions/36668160/graphing-a-colored-grid-in-python\n",
        "  # thanccs == asker: fosho, answerer: Suever\n",
        "  # Just some example data (random)\n",
        "  data = pattern.ndarray  # change this line to control colour map\n",
        "\n",
        "  rows,cols = data.shape\n",
        "  plt.imshow(data[::-1,::], interpolation='nearest', \n",
        "                  extent=[0, 0+cols, 0, 0+rows],  # offset should be zero\n",
        "                  cmap='Blues')  # controls colour scheme\n",
        "  # write stone value to the heat map\n",
        "  for (y,x), stone in np.ndenumerate(data):\n",
        "    plt.text(x+.5, y+.5, str(stone), ha='center', va='center',\n",
        "            bbox=dict(boxstyle='round', facecolor='white', edgecolor='0.3'))\n",
        "  # plt.axes()\n",
        "  plt.axis('scaled')\n",
        "  plt.show()\n",
        "\n",
        "# run it\n",
        "game = cache_tree_computation()\n",
        "game.play_sequence()\n",
        "visualise_checkerboard_counting(pattern=game)"
      ]
    },
    {
      "cell_type": "code",
      "execution_count": null,
      "metadata": {
        "colab": {
          "background_save": true
        },
        "id": "qJ_mPr-kZNAr"
      },
      "outputs": [],
      "source": [
        ""
      ]
    }
  ],
  "metadata": {
    "colab": {
      "name": "NumberphileFollowAlongs_StonesOnAnInfiniteChessboard.ipynb",
      "provenance": [],
      "authorship_tag": "ABX9TyMJzjvD0jET3RrikGSdhL16",
      "include_colab_link": true
    },
    "kernelspec": {
      "display_name": "Python 3",
      "name": "python3"
    },
    "language_info": {
      "name": "python"
    }
  },
  "nbformat": 4,
  "nbformat_minor": 0
}