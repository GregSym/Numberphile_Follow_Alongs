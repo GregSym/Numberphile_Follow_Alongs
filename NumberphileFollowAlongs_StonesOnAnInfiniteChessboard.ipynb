{
  "nbformat": 4,
  "nbformat_minor": 0,
  "metadata": {
    "colab": {
      "name": "NumberphileFollowAlongs_StonesOnAnInfiniteChessboard.ipynb",
      "provenance": [],
      "authorship_tag": "ABX9TyNhmK6MpT9psEQAvBPRclMm",
      "include_colab_link": true
    },
    "kernelspec": {
      "name": "python3",
      "display_name": "Python 3"
    },
    "language_info": {
      "name": "python"
    }
  },
  "cells": [
    {
      "cell_type": "markdown",
      "metadata": {
        "id": "view-in-github",
        "colab_type": "text"
      },
      "source": [
        "<a href=\"https://colab.research.google.com/github/GregSym/Numberphile_Follow_Alongs/blob/spoon/NumberphileFollowAlongs_StonesOnAnInfiniteChessboard.ipynb\" target=\"_parent\"><img src=\"https://colab.research.google.com/assets/colab-badge.svg\" alt=\"Open In Colab\"/></a>"
      ]
    },
    {
      "cell_type": "markdown",
      "source": [
        "# Stones on an Infinite Chessboard\n",
        "https://www.youtube.com/watch?v=m4Uth-EaTZ8\n",
        "\n",
        "A game in which a set of starting stones of value one are placed on a theoretically infinite grid in order to generate the largest possible sequence of natural numbers by evaluating the sum of a cell in the aforementioned grid's cells.\n",
        "\n",
        "I suppose part of the challenge here is visualising that so it's not as confusing as I made it sound. The YT video is much easier to follow."
      ],
      "metadata": {
        "id": "HC0Ao0b2_2Yj"
      }
    },
    {
      "cell_type": "code",
      "execution_count": 15,
      "metadata": {
        "id": "FsM6TG5MjsU8"
      },
      "outputs": [],
      "source": [
        "from __future__ import annotations\n",
        "import collections\n",
        "import numpy as np"
      ]
    },
    {
      "cell_type": "markdown",
      "source": [
        "## Principle setup for running the game"
      ],
      "metadata": {
        "id": "1ngLwQhBZiC8"
      }
    },
    {
      "cell_type": "code",
      "source": [
        "board: collections.defaultdict[tuple[int, int], int] = collections.defaultdict(lambda: 0)"
      ],
      "metadata": {
        "id": "34f2MDN6j5YY"
      },
      "execution_count": 16,
      "outputs": []
    },
    {
      "cell_type": "code",
      "source": [
        "def setup_init_state(board: collections.defaultdict[int], init_stones=2):\n",
        "  if init_stones==2:\n",
        "    board[(0, 0)] = 1\n",
        "    board[(2, 2)] = 1\n",
        "\n",
        "adjacency = ((-1, -1), (0, -1), (1, -1), (-1, 0), (0, 0), (1, 0), (0, 1), (1, 1))\n",
        "assert len(set(adjacency)) == 8  # check for 8 unique elements because i screw these up a lot\n",
        "\n",
        "def play_game(board: collections.defaultdict[tuple[int, int], int]):\n",
        "  max_x = max(k[0] for k in board)\n",
        "  max_y = max(k[1] for k in board)\n",
        "  for x in range(max_x+1):\n",
        "    for y in range(max_y+1):\n",
        "      adj_sum = sum(board[(x+t[0], y+t[1])] for t in adjacency)\n",
        "      if adj_sum not in board.values() and adj_sum == max(board.values()) + 1 and board[(x, y)] == 0:\n",
        "        board[(x, y)] = adj_sum\n",
        "  print(board)\n",
        "\n",
        "def board_to_data(board: collections.defaultdict[tuple[int, int], int]) -> list[list[int]]:\n",
        "  if any((x<0 or y<0) for x, y in board):\n",
        "    diagonal_shift = collections.defaultdict(lambda: 0)\n",
        "    diagonal_shift.update({(x+1, y+1): value for (x,y), value in board.items()})\n",
        "    board = diagonal_shift\n",
        "  max_x = max(k[0] for k in board)\n",
        "  max_y = max(k[1] for k in board)\n",
        "  data = np.zeros((max_x+1, max_y+1))\n",
        "  for (x, y), value in board.items():\n",
        "    data[y, x] = value\n",
        "  return data"
      ],
      "metadata": {
        "id": "K8Pw_eNjkOeC"
      },
      "execution_count": 17,
      "outputs": []
    },
    {
      "cell_type": "code",
      "source": [
        "setup_init_state(board=board)\n",
        "play_game(board=board)\n",
        "print(board_to_data(board=board))\n",
        "play_game(board=board)\n",
        "print(board_to_data(board=board))"
      ],
      "metadata": {
        "colab": {
          "base_uri": "https://localhost:8080/"
        },
        "id": "nsT0x_dZmAj3",
        "outputId": "46989886-86f4-4b95-8f77-4339c412a144"
      },
      "execution_count": 18,
      "outputs": [
        {
          "output_type": "stream",
          "name": "stdout",
          "text": [
            "defaultdict(<function <lambda> at 0x7fd7272208c0>, {(0, 0): 1, (2, 2): 1, (-1, -1): 0, (0, -1): 0, (1, -1): 0, (-1, 0): 0, (1, 0): 0, (0, 1): 0, (1, 1): 2, (-1, 1): 0, (0, 2): 0, (1, 2): 3, (-1, 2): 0, (0, 3): 0, (1, 3): 0, (2, -1): 0, (2, 0): 0, (2, 1): 0, (2, 3): 0, (3, -1): 0, (3, 0): 0, (3, 1): 0, (3, 2): 0, (3, 3): 0})\n",
            "[[0. 0. 0. 0. 0.]\n",
            " [0. 1. 0. 0. 0.]\n",
            " [0. 0. 2. 0. 0.]\n",
            " [0. 0. 3. 1. 0.]\n",
            " [0. 0. 0. 0. 0.]]\n",
            "defaultdict(<function <lambda> at 0x7fd7272208c0>, {(0, 0): 1, (2, 2): 1, (-1, -1): 0, (0, -1): 0, (1, -1): 0, (-1, 0): 0, (1, 0): 0, (0, 1): 0, (1, 1): 2, (-1, 1): 0, (0, 2): 0, (1, 2): 3, (-1, 2): 0, (0, 3): 0, (1, 3): 4, (2, -1): 0, (2, 0): 0, (2, 1): 0, (2, 3): 0, (3, -1): 0, (3, 0): 0, (3, 1): 0, (3, 2): 0, (3, 3): 0, (-1, 3): 0, (0, 4): 0, (1, 4): 0, (2, 4): 0, (3, 4): 0, (4, -1): 0, (4, 0): 0, (4, 1): 0, (4, 2): 0, (4, 3): 0, (4, 4): 0})\n",
            "[[0. 0. 0. 0. 0. 0.]\n",
            " [0. 1. 0. 0. 0. 0.]\n",
            " [0. 0. 2. 0. 0. 0.]\n",
            " [0. 0. 3. 1. 0. 0.]\n",
            " [0. 0. 4. 0. 0. 0.]\n",
            " [0. 0. 0. 0. 0. 0.]]\n"
          ]
        }
      ]
    },
    {
      "cell_type": "markdown",
      "source": [
        "## Packaging some of this functionality"
      ],
      "metadata": {
        "id": "z-HUmjmraVYS"
      }
    },
    {
      "cell_type": "code",
      "source": [
        "class NumbersAndStones:\n",
        "  \"\"\" Useful namespace for containing the game and its board \"\"\"\n",
        "  def __init__(self, initial_state: int = 2):\n",
        "    self.board: collections.defaultdict[tuple[int, int], int] = collections.defaultdict(lambda: 0)\n",
        "    setup_init_state(board=self.board, init_stones=initial_state)\n",
        "  \n",
        "  def play_game(self):\n",
        "    play_game(board=self.board)\n",
        "  \n",
        "  @property\n",
        "  def ndarray(self):\n",
        "    return board_to_data(board=self.board)"
      ],
      "metadata": {
        "id": "ylhEw_OEp7IA"
      },
      "execution_count": 19,
      "outputs": []
    },
    {
      "cell_type": "code",
      "source": [
        "game = NumbersAndStones()\n",
        "game.play_game()\n",
        "game.play_game()\n",
        "game.play_game()\n",
        "print(game.ndarray)"
      ],
      "metadata": {
        "colab": {
          "base_uri": "https://localhost:8080/"
        },
        "id": "l8MJWzyJU_KE",
        "outputId": "3f3128d1-f2c2-4906-b732-689573a65685"
      },
      "execution_count": 20,
      "outputs": [
        {
          "output_type": "stream",
          "name": "stdout",
          "text": [
            "defaultdict(<function NumbersAndStones.__init__.<locals>.<lambda> at 0x7fd72e77c680>, {(0, 0): 1, (2, 2): 1, (-1, -1): 0, (0, -1): 0, (1, -1): 0, (-1, 0): 0, (1, 0): 0, (0, 1): 0, (1, 1): 2, (-1, 1): 0, (0, 2): 0, (1, 2): 3, (-1, 2): 0, (0, 3): 0, (1, 3): 0, (2, -1): 0, (2, 0): 0, (2, 1): 0, (2, 3): 0, (3, -1): 0, (3, 0): 0, (3, 1): 0, (3, 2): 0, (3, 3): 0})\n",
            "defaultdict(<function NumbersAndStones.__init__.<locals>.<lambda> at 0x7fd72e77c680>, {(0, 0): 1, (2, 2): 1, (-1, -1): 0, (0, -1): 0, (1, -1): 0, (-1, 0): 0, (1, 0): 0, (0, 1): 0, (1, 1): 2, (-1, 1): 0, (0, 2): 0, (1, 2): 3, (-1, 2): 0, (0, 3): 0, (1, 3): 4, (2, -1): 0, (2, 0): 0, (2, 1): 0, (2, 3): 0, (3, -1): 0, (3, 0): 0, (3, 1): 0, (3, 2): 0, (3, 3): 0, (-1, 3): 0, (0, 4): 0, (1, 4): 0, (2, 4): 0, (3, 4): 0, (4, -1): 0, (4, 0): 0, (4, 1): 0, (4, 2): 0, (4, 3): 0, (4, 4): 0})\n",
            "defaultdict(<function NumbersAndStones.__init__.<locals>.<lambda> at 0x7fd72e77c680>, {(0, 0): 1, (2, 2): 1, (-1, -1): 0, (0, -1): 0, (1, -1): 0, (-1, 0): 0, (1, 0): 0, (0, 1): 0, (1, 1): 2, (-1, 1): 0, (0, 2): 0, (1, 2): 3, (-1, 2): 0, (0, 3): 0, (1, 3): 4, (2, -1): 0, (2, 0): 0, (2, 1): 0, (2, 3): 0, (3, -1): 0, (3, 0): 0, (3, 1): 0, (3, 2): 0, (3, 3): 0, (-1, 3): 0, (0, 4): 0, (1, 4): 0, (2, 4): 0, (3, 4): 0, (4, -1): 0, (4, 0): 0, (4, 1): 0, (4, 2): 0, (4, 3): 0, (4, 4): 0, (-1, 4): 0, (0, 5): 0, (1, 5): 0, (2, 5): 0, (3, 5): 0, (4, 5): 0, (5, -1): 0, (5, 0): 0, (5, 1): 0, (5, 2): 0, (5, 3): 0, (5, 4): 0, (5, 5): 0})\n",
            "[[0. 0. 0. 0. 0. 0. 0.]\n",
            " [0. 1. 0. 0. 0. 0. 0.]\n",
            " [0. 0. 2. 0. 0. 0. 0.]\n",
            " [0. 0. 3. 1. 0. 0. 0.]\n",
            " [0. 0. 4. 0. 0. 0. 0.]\n",
            " [0. 0. 0. 0. 0. 0. 0.]\n",
            " [0. 0. 0. 0. 0. 0. 0.]]\n"
          ]
        }
      ]
    },
    {
      "cell_type": "code",
      "source": [
        ""
      ],
      "metadata": {
        "id": "TzNekZSrVaoN"
      },
      "execution_count": null,
      "outputs": []
    }
  ]
}