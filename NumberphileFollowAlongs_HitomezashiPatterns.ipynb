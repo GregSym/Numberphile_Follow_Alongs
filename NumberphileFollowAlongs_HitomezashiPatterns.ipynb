{
  "nbformat": 4,
  "nbformat_minor": 0,
  "metadata": {
    "colab": {
      "name": "NumberphileFollowAlongs_HitomezashiPatterns.ipynb",
      "provenance": [],
      "authorship_tag": "ABX9TyPwhLkohsOXrwNCKb7xADb8",
      "include_colab_link": true
    },
    "kernelspec": {
      "name": "python3",
      "display_name": "Python 3"
    },
    "language_info": {
      "name": "python"
    }
  },
  "cells": [
    {
      "cell_type": "markdown",
      "metadata": {
        "id": "view-in-github",
        "colab_type": "text"
      },
      "source": [
        "<a href=\"https://colab.research.google.com/github/GregSym/Numberphile_Follow_Alongs/blob/spoon/NumberphileFollowAlongs_HitomezashiPatterns.ipynb\" target=\"_parent\"><img src=\"https://colab.research.google.com/assets/colab-badge.svg\" alt=\"Open In Colab\"/></a>"
      ]
    },
    {
      "cell_type": "markdown",
      "source": [
        "# Numberphile Follow-Alongs\n",
        "\n",
        "So I'm immediately breaking my rule that the videos must issue some sort of challenge because I thought the patterns looked cool - and if I must defend myself the visualisation is a bit of a challenge in and of itself\n",
        "\n",
        "# Hitomezashi Stitch Patterns\n",
        "## Dec 6, 2021\n",
        "https://www.youtube.com/watch?v=JbfhzlMk2eY\n",
        "\n",
        "## Before we go anywhere, getting from input arrays to a visualisation of the pattern:"
      ],
      "metadata": {
        "id": "FADwQ2SR5Zxh"
      }
    },
    {
      "cell_type": "code",
      "execution_count": 39,
      "metadata": {
        "id": "xhzIRwCCYEm4"
      },
      "outputs": [],
      "source": [
        "from __future__ import annotations\n",
        "\n",
        "class HitomezashiRepr:\n",
        "  def __init__(self, side_one: list[int], side_two: list[int], *args, **kwargs):\n",
        "    self.side_one = side_one\n",
        "    self.side_two = side_two\n",
        "  \n",
        "  def _vector_grid_general(self, index_side: list[int], magnitude_side: list[int]) -> dict[int, list[tuple[int, int]]]:\n",
        "    \"\"\" generator property that yields vectors left to right in the hitomezashi pattern  \"\"\"\n",
        "    vector_map: dict[int, list[tuple[int, int]]] = {}\n",
        "    for index, bit in enumerate(index_side):\n",
        "      vector_map[index] = []\n",
        "      for index_value_pair, index_value_pair1 in zip(enumerate(magnitude_side), list(enumerate(magnitude_side))[1:]):\n",
        "        if bit == 1:\n",
        "          if index_value_pair[0]%2 == 0 and index_value_pair1[0]%2 == 1:\n",
        "            vector_map[index].append((index_value_pair[0], index_value_pair1[0]))\n",
        "        else:\n",
        "          if index_value_pair[0]%2 == 1 and index_value_pair1[0]%2 == 0:\n",
        "            vector_map[index].append((index_value_pair[0], index_value_pair1[0]))\n",
        "    return vector_map\n",
        "  \n",
        "  @property\n",
        "  def vector_grid_ltr(self) -> dict[int, list[tuple[int, int]]]:\n",
        "    return self._vector_grid_general(index_side=self.side_one, magnitude_side=self.side_two)\n",
        "  @property\n",
        "  def vector_grid_btt(self) -> dict[int, list[tuple[int, int]]]:\n",
        "    return self._vector_grid_general(index_side=self.side_two, magnitude_side=self.side_one)\n",
        "  \n",
        "  def _line_segments_general(self, \n",
        "                        grid_single_direction: dict[int, list[tuple[int, int]]]\n",
        "                        ) -> dict[int, dict[int, tuple[tuple[int, int], tuple[int, int]]]]:  # typealias this maybe?\n",
        "    return {index:{\n",
        "        internal_index:\n",
        "                vector\n",
        "                 for internal_index, vector in enumerate(list_tuple)\n",
        "                } for (index, list_tuple) in grid_single_direction.items()}\n",
        "\n",
        "  @property\n",
        "  def line_segments_ltr(self) -> dict[int, dict[int, tuple[tuple[int, int], tuple[int, int]]]]:  # typealias this maybe?\n",
        "    return self._line_segments_general(grid_single_direction=self.vector_grid_ltr)\n",
        "  @property\n",
        "  def line_segments_btt(self) -> dict[int, dict[int, tuple[tuple[int, int], tuple[int, int]]]]:  # typealias this maybe?\n",
        "    return self._line_segments_general(grid_single_direction=self.vector_grid_btt)\n",
        "  "
      ]
    },
    {
      "cell_type": "code",
      "source": [
        "import matplotlib.pyplot as plt"
      ],
      "metadata": {
        "id": "S481rv7SkwAr"
      },
      "execution_count": 40,
      "outputs": []
    },
    {
      "cell_type": "code",
      "source": [
        "import numpy as np\n",
        "\n",
        "def visualise_hitomezashi_pattern(pattern: HitomezashiRepr, verbose: bool = False):\n",
        "  def _plotting(line_segments: dict[int, dict[int, tuple[tuple[int, int], tuple[int, int]]]], direction: str = 'ltr'):\n",
        "    for key, vector_dict in line_segments.items():\n",
        "      for vector in vector_dict.values():\n",
        "        plt.gca().add_line(\n",
        "            plt.Line2D(xdata=vector, ydata=(key, key), linewidth=2.5)\n",
        "            ) if direction == 'ltr' else plt.gca().add_line(\n",
        "                plt.Line2D(xdata=(key, key), ydata=vector, linewidth=2.5))\n",
        "\n",
        "  if verbose:\n",
        "    print(pattern.vector_grid_ltr)\n",
        "    print(pattern.vector_grid_btt)\n",
        "    print(pattern.line_segments_ltr)\n",
        "    print(pattern.line_segments_btt)\n",
        "  plt.axes()\n",
        "  _plotting(pattern.line_segments_ltr)\n",
        "  _plotting(pattern.line_segments_btt, direction='btt')\n",
        "  plt.axis('scaled')\n",
        "  plt.show()  "
      ],
      "metadata": {
        "id": "BMTkSJDMYg31"
      },
      "execution_count": 73,
      "outputs": []
    },
    {
      "cell_type": "code",
      "source": [
        "side_1: list[int] = [1, 0, 1, 0]\n",
        "side_2: list[int] = [1, 0, 1, 0]\n",
        "\n",
        "visualise_hitomezashi_pattern(pattern=HitomezashiRepr(side_one=side_1, side_two=side_2))"
      ],
      "metadata": {
        "colab": {
          "base_uri": "https://localhost:8080/",
          "height": 265
        },
        "id": "pUG33WRblCZ_",
        "outputId": "25e07392-14df-4718-fff9-06d828083b65"
      },
      "execution_count": 74,
      "outputs": [
        {
          "output_type": "display_data",
          "data": {
            "image/png": "[encoded data removed]",
            "text/plain": [
              "<Figure size 432x288 with 1 Axes>"
            ]
          },
          "metadata": {
            "needs_background": "light"
          }
        }
      ]
    },
    {
      "cell_type": "markdown",
      "source": [
        "## Plotting random sequences\n",
        "\n",
        "The next step is to scale up to plot a large random sequence"
      ],
      "metadata": {
        "id": "wyMoQgo34TKd"
      }
    },
    {
      "cell_type": "code",
      "source": [
        "import random\n",
        "\n",
        "side_one = [random.randint(0, 1) for _ in range(10)]\n",
        "side_two = [random.randint(0, 1) for _ in range(40)]\n",
        "\n",
        "visualise_hitomezashi_pattern(pattern=HitomezashiRepr(side_one=side_one, side_two=side_two))"
      ],
      "metadata": {
        "id": "vmqXigqdlQ_f",
        "colab": {
          "base_uri": "https://localhost:8080/",
          "height": 125
        },
        "outputId": "4eb5777c-cd85-4088-8b3b-56e338aad4d9"
      },
      "execution_count": 75,
      "outputs": [
        {
          "output_type": "display_data",
          "data": {
            "image/png": "[encoded data removed]",
            "text/plain": [
              "<Figure size 432x288 with 1 Axes>"
            ]
          },
          "metadata": {
            "needs_background": "light"
          }
        }
      ]
    },
    {
      "cell_type": "markdown",
      "source": [
        "It's probably useful to wrap this up and allow any combination of side length as a parameter"
      ],
      "metadata": {
        "id": "dFVaMnJ96237"
      }
    },
    {
      "cell_type": "code",
      "source": [
        "def visualise_for_given_side_length(xlength: int = 10, ylength: int = 10):\n",
        "  side_one = [random.randint(0, 1) for _ in range(ylength)]\n",
        "  side_two = [random.randint(0, 1) for _ in range(xlength)]\n",
        "\n",
        "  visualise_hitomezashi_pattern(pattern=HitomezashiRepr(side_one=side_one, side_two=side_two))\n",
        "\n",
        "visualise_for_given_side_length()"
      ],
      "metadata": {
        "colab": {
          "base_uri": "https://localhost:8080/",
          "height": 265
        },
        "id": "ci6F09fT43ea",
        "outputId": "6a76b217-c294-464a-df0b-9c148b215fe0"
      },
      "execution_count": 76,
      "outputs": [
        {
          "output_type": "display_data",
          "data": {
            "image/png": "[encoded data removed]",
            "text/plain": [
              "<Figure size 432x288 with 1 Axes>"
            ]
          },
          "metadata": {
            "needs_background": "light"
          }
        }
      ]
    }
  ]
}